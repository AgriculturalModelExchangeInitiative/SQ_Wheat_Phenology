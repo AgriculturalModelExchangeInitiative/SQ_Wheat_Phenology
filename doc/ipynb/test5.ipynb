{
 "cells": [
  {
   "cell_type": "markdown",
   "metadata": {},
   "source": [
    "# Automatic generation of Notebook using PyCropML\n",
    "This notebook implements a crop model."
   ]
  },
  {
   "cell_type": "code",
   "execution_count": null,
   "metadata": {},
   "outputs": [],
   "source": [
    "import numpy as np \n",
    "from copy import copy\n",
    "from math import *\n",
    "\n",
    "def phylsowingdatecorrection(sowingDay=1,\n",
    "                             latitude=0.0,\n",
    "                             sDsa_sh=1,\n",
    "                             rp=0.0,\n",
    "                             sDws=1,\n",
    "                             sDsa_nh=1,\n",
    "                             p=120.0):\n",
    "    \"\"\"\n",
    "\n",
    "\n",
    "    PhylSowingDateCorrection Model\n",
    "    Author: Loic Manceau\n",
    "    Reference: Modeling development phase in the \n",
    "                Wheat Simulation Model SiriusQuality.\n",
    "                See documentation at http://www1.clermont.inra.fr/siriusquality/?page_id=427\n",
    "    Institution: INRA Montpellier\n",
    "    Abstract: Correction of the Phyllochron Varietal parameter according to sowing date \n",
    "\n",
    "    \"\"\"\n",
    "    if (latitude < 0):\n",
    "        if (sowingDay > sDsa_sh):\n",
    "            fixPhyll = p * (1 - rp * min(sowingDay - sDsa_sh, sDws))\n",
    "        else: fixPhyll = p\n",
    "    else:\n",
    "        if (sowingDay < sDsa_nh):\n",
    "            fixPhyll = p * (1 - rp * min(sowingDay, sDws))\n",
    "        else: fixPhyll = p\n",
    "    return  fixPhyll\n"
   ]
  },
  {
   "cell_type": "markdown",
   "metadata": {},
   "source": [
    "## Run the model with a set of parameters.\n",
    "Each run will be defined in its own cell."
   ]
  },
  {
   "cell_type": "code",
   "execution_count": null,
   "metadata": {},
   "outputs": [],
   "source": [
    "params= phylsowingdatecorrection(\n",
    "    p = 120,\n",
    "    sowingDay = 80,\n",
    "    rp = 0.003,\n",
    "    sDws = 90,\n",
    "    latitude = 33.069,\n",
    "    sDsa_nh = 200,\n",
    "    sDsa_sh = 151,\n",
    "     )\n",
    "print('fixPhyll_estimated =')\n",
    "print(round(params, 2))\n",
    "# fixPhyll_computed = 91.2"
   ]
  }
 ],
 "metadata": {},
 "nbformat": 4,
 "nbformat_minor": 2
}
