{
 "cells": [
  {
   "cell_type": "markdown",
   "metadata": {},
   "source": [
    "# Automatic generation of Notebook using PyCropML\n",
    "This notebook implements a crop model."
   ]
  },
  {
   "cell_type": "code",
   "execution_count": 3,
   "metadata": {},
   "outputs": [],
   "source": [
    "import numpy as np \n",
    "from copy import copy\n",
    "from math import *\n",
    "\n",
    "def fibonacci(n):\n",
    "    \"\"\"\n",
    "\n",
    "\n",
    "    fibonacci function\n",
    "    Author: Pierre Martre\n",
    "    Reference:  to write in package\n",
    "    Institution: INRA Montpellier\n",
    "    Abstract: see documentation\n",
    "\n",
    "    \"\"\"\n",
    "    value = 0\n",
    "    b = 1\n",
    "    for i in range(0,n):\n",
    "        temp = value\n",
    "        value = b\n",
    "        b = temp + b\n",
    "    return  value\n"
   ]
  },
  {
   "cell_type": "markdown",
   "metadata": {},
   "source": [
    "## Run the model with a set of parameters.\n",
    "Each run will be defined in its own cell."
   ]
  },
  {
   "cell_type": "code",
   "execution_count": 4,
   "metadata": {},
   "outputs": [
    {
     "name": "stdout",
     "output_type": "stream",
     "text": [
      "value_estimated =\n",
      "8\n"
     ]
    }
   ],
   "source": [
    "params= fibonacci(\n",
    "    n = 6,\n",
    "     )\n",
    "print('value_estimated =')\n",
    "print(params)\n",
    "# value_computed = 8"
   ]
  },
  {
   "cell_type": "code",
   "execution_count": null,
   "metadata": {},
   "outputs": [],
   "source": []
  }
 ],
 "metadata": {
  "kernelspec": {
   "display_name": "Python 2",
   "language": "python",
   "name": "python2"
  },
  "language_info": {
   "codemirror_mode": {
    "name": "ipython",
    "version": 2
   },
   "file_extension": ".py",
   "mimetype": "text/x-python",
   "name": "python",
   "nbconvert_exporter": "python",
   "pygments_lexer": "ipython2",
   "version": "2.7.15"
  }
 },
 "nbformat": 4,
 "nbformat_minor": 2
}
