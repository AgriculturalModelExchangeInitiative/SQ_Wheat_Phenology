{
 "cells": [
  {
   "cell_type": "markdown",
   "metadata": {},
   "source": [
    "# Automatic generation of Notebook using PyCropML\n",
    "This notebook implements a crop model."
   ]
  },
  {
   "cell_type": "code",
   "execution_count": 1,
   "metadata": {},
   "outputs": [],
   "source": [
    "import numpy as np \n",
    "from copy import copy\n",
    "from math import *\n",
    "\n",
    "def cumulttfrom(calendarMoments=['Sowing'],\n",
    "                calendarCumuls=[0.0],\n",
    "                switchMaize=0,\n",
    "                cumulTT=8.0):\n",
    "    \"\"\"\n",
    "\n",
    "\n",
    "    CumulTTFrom Model\n",
    "    Author: Pierre Martre\n",
    "    Reference: Modeling development phase in the \n",
    "                Wheat Simulation Model SiriusQuality.\n",
    "                See documentation at http://www1.clermont.inra.fr/siriusquality/?page_id=427\n",
    "    Institution: INRA Montpellier\n",
    "    Abstract: Calculate CumulTT \n",
    "\n",
    "    \"\"\"\n",
    "    cumulTTFromZC_65 = 0\n",
    "    cumulTTFromZC_39 = 0\n",
    "    cumulTTFromZC_91 = 0     \n",
    "    if \"Anthesis\" in calendarMoments:\n",
    "        if (switchMaize == 0): cumulTTFromZC_65 = cumulTT-calendarCumuls[calendarMoments.index(\"Anthesis\")]    \n",
    "    if \"FlagLeafLiguleJustVisible\" in calendarMoments:\n",
    "        if (switchMaize == 0): cumulTTFromZC_39 = cumulTT-calendarCumuls[calendarMoments.index(\"FlagLeafLiguleJustVisible\")]  \n",
    "    if \"EndGrainFilling\"in calendarMoments:\n",
    "        if (switchMaize == 0): cumulTTFromZC_91 = cumulTT-calendarCumuls[calendarMoments.index(\"FlagLeafLiguleJustVisible\")]\n",
    "    return  cumulTTFromZC_65, cumulTTFromZC_39, cumulTTFromZC_91\n"
   ]
  },
  {
   "cell_type": "markdown",
   "metadata": {},
   "source": [
    "## Run the model with a set of parameters.\n",
    "Each run will be defined in its own cell."
   ]
  },
  {
   "cell_type": "code",
   "execution_count": 2,
   "metadata": {},
   "outputs": [
    {
     "name": "stdout",
     "output_type": "stream",
     "text": [
      "cumulTTFromZC_65_estimated =\n",
      "18.38\n",
      "cumulTTFromZC_39_estimated =\n",
      "231.46\n",
      "cumulTTFromZC_91_estimated =\n",
      "0.0\n"
     ]
    }
   ],
   "source": [
    "params= cumulttfrom(\n",
    "    cumulTT = 972.970888983105,\n",
    "    switchMaize = 0,\n",
    "    calendarCumuls = [0.0, 112.330110409888, 354.582294511779, 741.510096671757, 853.999637026622, 954.59002776961],\n",
    "    calendarMoments = [\"Sowing\", \"Emergence\", \"FloralInitiation\", \"FlagLeafLiguleJustVisible\", \"Heading\", \"Anthesis\"],\n",
    "     )\n",
    "print('cumulTTFromZC_65_estimated =')\n",
    "print(round(params[0], 2))\n",
    "# cumulTTFromZC_65_computed = 18.38\n",
    "print('cumulTTFromZC_39_estimated =')\n",
    "print(round(params[1], 2))\n",
    "# cumulTTFromZC_39_computed = 231.46\n",
    "print('cumulTTFromZC_91_estimated =')\n",
    "print(round(params[2], 2))\n",
    "# cumulTTFromZC_91_computed = 0"
   ]
  },
  {
   "cell_type": "code",
   "execution_count": null,
   "metadata": {},
   "outputs": [],
   "source": []
  }
 ],
 "metadata": {
  "kernelspec": {
   "display_name": "Python 2",
   "language": "python",
   "name": "python2"
  },
  "language_info": {
   "codemirror_mode": {
    "name": "ipython",
    "version": 2
   },
   "file_extension": ".py",
   "mimetype": "text/x-python",
   "name": "python",
   "nbconvert_exporter": "python",
   "pygments_lexer": "ipython2",
   "version": "2.7.15"
  }
 },
 "nbformat": 4,
 "nbformat_minor": 2
}
