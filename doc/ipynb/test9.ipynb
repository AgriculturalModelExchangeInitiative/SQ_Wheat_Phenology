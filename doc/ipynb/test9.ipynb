{
 "cells": [
  {
   "cell_type": "markdown",
   "metadata": {},
   "source": [
    "# Automatic generation of Notebook using PyCropML\n",
    "This notebook implements a crop model."
   ]
  },
  {
   "cell_type": "code",
   "execution_count": null,
   "metadata": {},
   "outputs": [],
   "source": [
    "import numpy as np \n",
    "from copy import copy\n",
    "from math import *\n",
    "\n",
    "def updateleafflag(cumulTT=741.510096672,\n",
    "                   leafNumber=8.91945383336,\n",
    "                   calendarMoments=['Sowing'],\n",
    "                   calendarDates=['21/3/2007'],\n",
    "                   calendarCumuls=[0.0],\n",
    "                   currentdate='29/4/2007',\n",
    "                   finalLeafNumber=8.7975820132,\n",
    "                   hasFlagLeafLiguleAppeared=1,\n",
    "                   phase=1.0):\n",
    "    \"\"\"\n",
    "\n",
    "\n",
    "    UpdateLeafFlag Model\n",
    "    Author: Pierre MARTRE\n",
    "    Reference: Modeling development phase in the \n",
    "                Wheat Simulation Model SiriusQuality.\n",
    "                See documentation at http://www1.clermont.inra.fr/siriusquality/?page_id=427\n",
    "    Institution: INRA Montpellier\n",
    "    Abstract: tells if flag leaf has appeared and update the calendar if so\n",
    "    \t\n",
    "\n",
    "    \"\"\"\n",
    "    if (phase >= 1 and phase< 4):\n",
    "        if (leafNumber > 0):\n",
    "            if (hasFlagLeafLiguleAppeared == 0 and (finalLeafNumber > 0 and leafNumber >= finalLeafNumber)):\n",
    "                hasFlagLeafLiguleAppeared = 1\n",
    "                if  \"FlagLeafLiguleJustVisible\" not in calendarMoments:\n",
    "                    calendarMoments.append(\"FlagLeafLiguleJustVisible\")\n",
    "                    calendarCumuls.append(cumulTT)\n",
    "                    calendarDates.append(currentdate)\n",
    "        else:\n",
    "            hasFlagLeafLiguleAppeared = 0\n",
    "    return  hasFlagLeafLiguleAppeared, calendarMoments, calendarDates, calendarCumuls\n"
   ]
  },
  {
   "cell_type": "markdown",
   "metadata": {},
   "source": [
    "## Run the model with a set of parameters.\n",
    "Each run will be defined in its own cell."
   ]
  },
  {
   "cell_type": "code",
   "execution_count": null,
   "metadata": {},
   "outputs": [],
   "source": [
    "params= updateleafflag(\n",
    "    phase = 3,\n",
    "    calendarDates = [\"21/3/2007\", \"27/3/2007\", \"30/3/2007\", \"5/4/2007\", \"9/4/2007\", \"10/4/2007\", \"11/4/2007\", \"12/4/2007\", \"14/4/2007\", \"15/4/2007\", \"19/4/2007\", \"24/4/2007\"],\n",
    "    calendarCumuls = [0.0, 112.330110409888, 157.969706915664, 280.570678654207, 354.582294511779, 378.453152853726, 402.042720581446, 424.98704708663, 467.23305195298, 487.544313430698, 560.665248444002, 646.389617338974],\n",
    "    calendarMoments = [\"Sowing\", \"Emergence\", \"EndVernalisation\", \"MainShootPlus1Tiller\", \"FloralInitiation\", \"MainShootPlus2Tiller\", \"TerminalSpikelet\", \"PseudoStemErection\", \"MainShootPlus3Tiller\", \"1stNodeDetectable\", \"2ndNodeDetectable\", \"FlagLeafJustVisible\"],\n",
    "    hasFlagLeafLiguleAppeared = 0,\n",
    "     )\n",
    "print('hasFlagLeafLiguleAppeared_estimated =')\n",
    "print(params[0])\n",
    "# hasFlagLeafLiguleAppeared_computed = 1\n",
    "print('calendarMoments_estimated =')\n",
    "print(params[1])\n",
    "# calendarMoments_computed = [\"Sowing\", \"Emergence\", \"EndVernalisation\", \"MainShootPlus1Tiller\", \"FloralInitiation\", \"MainShootPlus2Tiller\", \"TerminalSpikelet\", \"PseudoStemErection\", \"MainShootPlus3Tiller\", \"1stNodeDetectable\", \"2ndNodeDetectable\", \"FlagLeafJustVisible\", \"FlagLeafLiguleJustVisible\"]\n",
    "print('calendarDates_estimated =')\n",
    "print(params[2])\n",
    "# calendarDates_computed = [\"21/3/2007\", \"27/3/2007\", \"30/3/2007\", \"5/4/2007\", \"9/4/2007\", \"10/4/2007\", \"11/4/2007\", \"12/4/2007\", \"14/4/2007\", \"15/4/2007\", \"19/4/2007\", \"24/4/2007\", \"29/4/2007\"]\n",
    "print('calendarCumuls_estimated =')\n",
    "print(np.around(params[3], 2))\n",
    "# calendarCumuls_computed = [0.0, 112.33, 157.97, 280.57, 354.58, 378.45, 402.04, 424.99, 467.23, 487.54, 560.67, 646.39, 741.51]"
   ]
  }
 ],
 "metadata": {},
 "nbformat": 4,
 "nbformat_minor": 2
}
