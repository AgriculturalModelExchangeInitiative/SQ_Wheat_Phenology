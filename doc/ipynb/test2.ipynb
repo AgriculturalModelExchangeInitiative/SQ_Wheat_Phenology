{
 "cells": [
  {
   "cell_type": "markdown",
   "metadata": {},
   "source": [
    "# Automatic generation of Notebook using PyCropML\n",
    "This notebook implements a crop model."
   ]
  },
  {
   "cell_type": "code",
   "execution_count": null,
   "metadata": {},
   "outputs": [],
   "source": [
    "import numpy as np \n",
    "from copy import copy\n",
    "from math import *\n",
    "\n",
    "def ismomentregistredzc_39(calendarMoments=['Sowing']):\n",
    "    \"\"\"\n",
    "\n",
    "\n",
    "    IsMomentRegistredZC39 Model\n",
    "    Author: Pierre Martre\n",
    "    Reference: Modeling development phase in the \n",
    "                Wheat Simulation Model SiriusQuality.\n",
    "                See documentation at http://www1.clermont.inra.fr/siriusquality/?page_id=427\n",
    "    Institution: INRA Montpellier\n",
    "    Abstract: if FlagLeafLiguleJustVisible is already Registred \n",
    "\n",
    "    \"\"\"\n",
    "    isMomentRegistredZC_39 = 1 if \"FlagLeafLiguleJustVisible\" in calendarMoments else 0\n",
    "    return  isMomentRegistredZC_39\n"
   ]
  },
  {
   "cell_type": "markdown",
   "metadata": {},
   "source": [
    "## Run the model with a set of parameters.\n",
    "Each run will be defined in its own cell."
   ]
  },
  {
   "cell_type": "code",
   "execution_count": null,
   "metadata": {},
   "outputs": [],
   "source": [
    "params= ismomentregistredzc_39(\n",
    "    calendarMoments = [\"Sowing\", \"Emergence\", \"FloralInitiation\", \"FlagLeafLiguleJustVisible\", \"Heading\", \"Anthesis\"],\n",
    "     )\n",
    "print('isMomentRegistredZC_39_estimated =')\n",
    "print(params)\n",
    "# isMomentRegistredZC_39_computed = 1"
   ]
  }
 ],
 "metadata": {},
 "nbformat": 4,
 "nbformat_minor": 2
}
