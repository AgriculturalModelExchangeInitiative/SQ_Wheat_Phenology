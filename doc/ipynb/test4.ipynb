{
 "cells": [
  {
   "cell_type": "markdown",
   "metadata": {},
   "source": [
    "# Automatic generation of Notebook using PyCropML\n",
    "This notebook implements a crop model."
   ]
  },
  {
   "cell_type": "code",
   "execution_count": null,
   "metadata": {},
   "outputs": [],
   "source": [
    "import numpy as np \n",
    "from copy import copy\n",
    "from math import *\n",
    "\n",
    "def phyllochron(fixPhyll=5.0,\n",
    "                leafNumber=0.0,\n",
    "                lincr=8.0,\n",
    "                ldecr=10.0,\n",
    "                pdecr=0.4,\n",
    "                pincr=1.5,\n",
    "                ptq=0.0,\n",
    "                gai=0.0,\n",
    "                pastMaxAI=0.0,\n",
    "                kl=0.45,\n",
    "                aPTQ=0.842934,\n",
    "                phylPTQ1=20.0,\n",
    "                p=120.0,\n",
    "                choosePhyllUse='Default'):\n",
    "    \"\"\"\n",
    "\n",
    "\n",
    "    Phyllochron Model\n",
    "    Author: Pierre Martre\n",
    "    Reference: Modeling development phase in the \n",
    "                Wheat Simulation Model SiriusQuality.\n",
    "                See documentation at http://www1.clermont.inra.fr/siriusquality/?page_id=427\n",
    "    Institution: INRA Montpellier\n",
    "    Abstract: Calculate different types of phyllochron \n",
    "\n",
    "    \"\"\"\n",
    "    if choosePhyllUse ==\"Default\":\n",
    "        if (leafNumber < ldecr): phyllochron = fixPhyll * pdecr\n",
    "        elif (leafNumber >= ldecr and leafNumber < lincr): phyllochron = fixPhyll\n",
    "        else: phyllochron = fixPhyll * pincr\n",
    "    if choosePhyllUse ==\"PTQ\":\n",
    "        pastMaxAI1 = pastMaxAI\n",
    "        gai = max(pastMaxAI1,gai)\n",
    "        pastMaxAI = gai\n",
    "        if (gai > 0.0): phyllochron = phylPTQ1 * ((gai * kl) / (1 - exp(-kl * gai))) / (ptq + aPTQ)\n",
    "        else: phyllochron = phylPTQ1      \n",
    "    if choosePhyllUse == \"Test\":\n",
    "        if (leafNumber < ldecr): phyllochron = p * pdecr\n",
    "        elif (leafNumber >= ldecr and leafNumber < lincr): phyllochron = p\n",
    "        else: phyllochron = p * pincr\n",
    "    return  phyllochron, pastMaxAI\n"
   ]
  },
  {
   "cell_type": "markdown",
   "metadata": {},
   "source": [
    "## Run the model with a set of parameters.\n",
    "Each run will be defined in its own cell."
   ]
  },
  {
   "cell_type": "code",
   "execution_count": null,
   "metadata": {},
   "outputs": [],
   "source": [
    "params= phyllochron(\n",
    "    pincr = 1.25,\n",
    "    gai = 0.279874189539498,\n",
    "    ldecr = 3,\n",
    "    fixPhyll = 91.2,\n",
    "    lincr = 8,\n",
    "    pdecr = 0.4,\n",
    "     )\n",
    "print('phyllochron_estimated =')\n",
    "print(round(params[0], 2))\n",
    "# phyllochron_computed = 36.48\n",
    "print('pastMaxAI_estimated =')\n",
    "print(round(params[1], 2))\n",
    "# pastMaxAI_computed = 0"
   ]
  }
 ],
 "metadata": {},
 "nbformat": 4,
 "nbformat_minor": 2
}
