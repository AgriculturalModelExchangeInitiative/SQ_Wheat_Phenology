{
 "cells": [
  {
   "cell_type": "markdown",
   "metadata": {},
   "source": [
    "# Automatic generation of Notebook using PyCropML\n",
    "This notebook implements a crop model."
   ]
  },
  {
   "cell_type": "code",
   "execution_count": 18,
   "metadata": {},
   "outputs": [],
   "source": [
    "import numpy as np \n",
    "from copy import copy\n",
    "from math import *\n",
    "\n",
    "from fibo import * \n",
    "def shootnumber(canopyShootNumber=288.0,\n",
    "                leafNumber=0.0,\n",
    "                sowingDensity=288,\n",
    "                targetFertileShoot=600.0,\n",
    "                tilleringProfile=[288],\n",
    "                leafTillerNumberArray=[1],\n",
    "                tillerNumber=1):\n",
    "    \"\"\"\n",
    "\n",
    "\n",
    "    CalculateShootNumber Model\n",
    "    Author: Pierre MARTRE\n",
    "    Reference: Modeling development phase in the \n",
    "                Wheat Simulation Model SiriusQuality.\n",
    "                See documentation at http://www1.clermont.inra.fr/siriusquality/?page_id=427\n",
    "    Institution: INRA/LEPSE Montpellier\n",
    "    Abstract: calculate the shoot number and update the related variables if needed\n",
    "\n",
    "    \"\"\"\n",
    "    oldCanopyShootNumber = canopyShootNumber\n",
    "    emergedLeaves = int(max(1, ceil(leafNumber - 1)))\n",
    "    shoots = fibonacci(emergedLeaves)\n",
    "    canopyShootNumber = min(shoots * sowingDensity, targetFertileShoot)\n",
    "    averageShootNumberPerPlant = canopyShootNumber / sowingDensity       \n",
    "    if (canopyShootNumber != oldCanopyShootNumber):\n",
    "        tilleringProfile.append(canopyShootNumber - oldCanopyShootNumber)         \n",
    "    tillerNumber = len(tilleringProfile)     \n",
    "    for i in range(len(leafTillerNumberArray),int(ceil(leafNumber))):\n",
    "        leafTillerNumberArray.append(tillerNumber)\n",
    "    return  averageShootNumberPerPlant, canopyShootNumber, leafTillerNumberArray, tilleringProfile, tillerNumber\n"
   ]
  },
  {
   "cell_type": "markdown",
   "metadata": {},
   "source": [
    "## Run the model with a set of parameters.\n",
    "Each run will be defined in its own cell."
   ]
  },
  {
   "cell_type": "code",
   "execution_count": 9,
   "metadata": {},
   "outputs": [
    {
     "ename": "NameError",
     "evalue": "global name 'fibonacci' is not defined",
     "output_type": "error",
     "traceback": [
      "\u001b[1;31m---------------------------------------------------------------------------\u001b[0m",
      "\u001b[1;31mNameError\u001b[0m                                 Traceback (most recent call last)",
      "\u001b[1;32m<ipython-input-9-77b6b384bdd7>\u001b[0m in \u001b[0;36m<module>\u001b[1;34m()\u001b[0m\n\u001b[0;32m      6\u001b[0m     \u001b[0mleafNumber\u001b[0m \u001b[1;33m=\u001b[0m \u001b[1;36m3.34348137255\u001b[0m\u001b[1;33m,\u001b[0m\u001b[1;33m\u001b[0m\u001b[0m\n\u001b[0;32m      7\u001b[0m     \u001b[0mcanopyShootNumber\u001b[0m \u001b[1;33m=\u001b[0m \u001b[1;36m288.0\u001b[0m\u001b[1;33m,\u001b[0m\u001b[1;33m\u001b[0m\u001b[0m\n\u001b[1;32m----> 8\u001b[1;33m     \u001b[0mleafTillerNumberArray\u001b[0m \u001b[1;33m=\u001b[0m \u001b[1;33m[\u001b[0m\u001b[1;36m1\u001b[0m\u001b[1;33m,\u001b[0m \u001b[1;36m1\u001b[0m\u001b[1;33m,\u001b[0m \u001b[1;36m1\u001b[0m\u001b[1;33m]\u001b[0m\u001b[1;33m,\u001b[0m\u001b[1;33m\u001b[0m\u001b[0m\n\u001b[0m\u001b[0;32m      9\u001b[0m      )\n\u001b[0;32m     10\u001b[0m \u001b[1;32mprint\u001b[0m\u001b[1;33m(\u001b[0m\u001b[1;34m'averageShootNumberPerPlant_estimated ='\u001b[0m\u001b[1;33m)\u001b[0m\u001b[1;33m\u001b[0m\u001b[0m\n",
      "\u001b[1;32m<ipython-input-7-aac62bfe7449>\u001b[0m in \u001b[0;36mshootnumber\u001b[1;34m(canopyShootNumber, leafNumber, sowingDensity, targetFertileShoot, tilleringProfile, leafTillerNumberArray, tillerNumber)\u001b[0m\n\u001b[0;32m     25\u001b[0m     \u001b[0moldCanopyShootNumber\u001b[0m \u001b[1;33m=\u001b[0m \u001b[0mcanopyShootNumber\u001b[0m\u001b[1;33m\u001b[0m\u001b[0m\n\u001b[0;32m     26\u001b[0m     \u001b[0memergedLeaves\u001b[0m \u001b[1;33m=\u001b[0m \u001b[0mint\u001b[0m\u001b[1;33m(\u001b[0m\u001b[0mmax\u001b[0m\u001b[1;33m(\u001b[0m\u001b[1;36m1\u001b[0m\u001b[1;33m,\u001b[0m \u001b[0mceil\u001b[0m\u001b[1;33m(\u001b[0m\u001b[0mleafNumber\u001b[0m \u001b[1;33m-\u001b[0m \u001b[1;36m1\u001b[0m\u001b[1;33m)\u001b[0m\u001b[1;33m)\u001b[0m\u001b[1;33m)\u001b[0m\u001b[1;33m\u001b[0m\u001b[0m\n\u001b[1;32m---> 27\u001b[1;33m     \u001b[0mshoots\u001b[0m \u001b[1;33m=\u001b[0m \u001b[0mfibonacci\u001b[0m\u001b[1;33m(\u001b[0m\u001b[0memergedLeaves\u001b[0m\u001b[1;33m)\u001b[0m\u001b[1;33m\u001b[0m\u001b[0m\n\u001b[0m\u001b[0;32m     28\u001b[0m     \u001b[0mcanopyShootNumber\u001b[0m \u001b[1;33m=\u001b[0m \u001b[0mmin\u001b[0m\u001b[1;33m(\u001b[0m\u001b[0mshoots\u001b[0m \u001b[1;33m*\u001b[0m \u001b[0msowingDensity\u001b[0m\u001b[1;33m,\u001b[0m \u001b[0mtargetFertileShoot\u001b[0m\u001b[1;33m)\u001b[0m\u001b[1;33m\u001b[0m\u001b[0m\n\u001b[0;32m     29\u001b[0m     \u001b[0maverageShootNumberPerPlant\u001b[0m \u001b[1;33m=\u001b[0m \u001b[0mcanopyShootNumber\u001b[0m \u001b[1;33m/\u001b[0m \u001b[0msowingDensity\u001b[0m\u001b[1;33m\u001b[0m\u001b[0m\n",
      "\u001b[1;31mNameError\u001b[0m: global name 'fibonacci' is not defined"
     ]
    }
   ],
   "source": [
    "params= shootnumber(\n",
    "    sowingDensity = 288.0,\n",
    "    targetFertileShoot = 600.0,\n",
    "    tilleringProfile = [288.0],\n",
    "    leafNumber = 3.34348137255,\n",
    "    canopyShootNumber = 288.0,\n",
    "    leafTillerNumberArray = [1, 1, 1],\n",
    "     )\n",
    "print('averageShootNumberPerPlant_estimated =')\n",
    "print(round(params[0], 2))\n",
    "# averageShootNumberPerPlant_computed = 2\n",
    "print('canopyShootNumber_estimated =')\n",
    "print(round(params[1], 1))\n",
    "# canopyShootNumber_computed = 576\n",
    "print('leafTillerNumberArray_estimated =')\n",
    "print(params[2])\n",
    "# leafTillerNumberArray_computed = [1, 1, 1, 2]\n",
    "print('tilleringProfile_estimated =')\n",
    "print(np.around(params[3], 2))\n",
    "# tilleringProfile_computed = [288.0, 288.0]\n",
    "print('tillerNumber_estimated =')\n",
    "print(params[4])\n",
    "# tillerNumber_computed = 2"
   ]
  },
  {
   "cell_type": "code",
   "execution_count": 21,
   "metadata": {},
   "outputs": [],
   "source": [
    "import fibo"
   ]
  },
  {
   "cell_type": "code",
   "execution_count": 22,
   "metadata": {},
   "outputs": [
    {
     "ename": "AttributeError",
     "evalue": "'module' object has no attribute 'fibonacci'",
     "output_type": "error",
     "traceback": [
      "\u001b[1;31m---------------------------------------------------------------------------\u001b[0m",
      "\u001b[1;31mAttributeError\u001b[0m                            Traceback (most recent call last)",
      "\u001b[1;32m<ipython-input-22-19d0c555c9fe>\u001b[0m in \u001b[0;36m<module>\u001b[1;34m()\u001b[0m\n\u001b[1;32m----> 1\u001b[1;33m \u001b[0mfibo\u001b[0m\u001b[1;33m.\u001b[0m\u001b[0mfibonacci\u001b[0m\u001b[1;33m(\u001b[0m\u001b[1;36m10\u001b[0m\u001b[1;33m)\u001b[0m\u001b[1;33m\u001b[0m\u001b[0m\n\u001b[0m",
      "\u001b[1;31mAttributeError\u001b[0m: 'module' object has no attribute 'fibonacci'"
     ]
    }
   ],
   "source": [
    "fibo.fibonacci(10)\n"
   ]
  },
  {
   "cell_type": "code",
   "execution_count": null,
   "metadata": {},
   "outputs": [],
   "source": []
  }
 ],
 "metadata": {
  "kernelspec": {
   "display_name": "Python 2",
   "language": "python",
   "name": "python2"
  },
  "language_info": {
   "codemirror_mode": {
    "name": "ipython",
    "version": 2
   },
   "file_extension": ".py",
   "mimetype": "text/x-python",
   "name": "python",
   "nbconvert_exporter": "python",
   "pygments_lexer": "ipython2",
   "version": "2.7.15"
  }
 },
 "nbformat": 4,
 "nbformat_minor": 2
}
