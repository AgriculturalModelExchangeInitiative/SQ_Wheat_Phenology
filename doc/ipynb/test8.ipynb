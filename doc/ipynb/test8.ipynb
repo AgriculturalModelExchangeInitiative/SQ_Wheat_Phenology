{
 "cells": [
  {
   "cell_type": "markdown",
   "metadata": {},
   "source": [
    "# Automatic generation of Notebook using PyCropML\n",
    "This notebook implements a crop model."
   ]
  },
  {
   "cell_type": "code",
   "execution_count": null,
   "metadata": {},
   "outputs": [],
   "source": [
    "import numpy as np \n",
    "from copy import copy\n",
    "from math import *\n",
    "\n",
    "def updatecalendar(cumulTT=741.510096672,\n",
    "                   calendarMoments=['Sowing'],\n",
    "                   calendarDates=['21/3/2007'],\n",
    "                   calendarCumuls=[0.0],\n",
    "                   currentdate='27/3/2007',\n",
    "                   phase=1):\n",
    "    \"\"\"\n",
    "\n",
    "\n",
    "    Calendar Model\n",
    "    Author: Pierre Martre\n",
    "    Reference: Modeling development phase in the \n",
    "                Wheat Simulation Model SiriusQuality.\n",
    "                See documentation at http://www1.clermont.inra.fr/siriusquality/?page_id=427\n",
    "    Institution: INRA Montpellier\n",
    "    Abstract: Lists containing for each stage the date it occurs as well as a copy of all types of cumulated thermal times \n",
    "\n",
    "    \"\"\"\n",
    "    if (phase >= 1 and phase < 2) and (\"Emergence\" not in calendarMoments ):\n",
    "        calendarMoments.append(\"Emergence\")\n",
    "        calendarCumuls.append(cumulTT)\n",
    "        calendarDates.append(currentdate)\n",
    "    elif (phase >= 2 and phase < 3)  and (\"FloralInitiation\" not in calendarMoments ):\n",
    "        calendarMoments.append(\"FloralInitiation\") \n",
    "        calendarCumuls.append(cumulTT)\n",
    "        calendarDates.append(currentdate)\n",
    "    elif (phase >= 3 and phase < 4)  and (\"Heading\" not in calendarMoments ):\n",
    "        calendarMoments.append(\"Heading\")\n",
    "        calendarCumuls.append(cumulTT)\n",
    "        calendarDates.append(currentdate)\n",
    "    elif (phase == 4)  and (\"Anthesis\" not in calendarMoments ):\n",
    "        calendarMoments.append(\"Anthesis\")\n",
    "        calendarCumuls.append(cumulTT)\n",
    "        calendarDates.append(currentdate)\n",
    "    elif (phase == 4.5)  and (\"EndCellDivision\" not in calendarMoments ):\n",
    "        calendarMoments.append(\"EndCellDivision\")\n",
    "        calendarCumuls.append(cumulTT)\n",
    "        calendarDates.append(currentdate)\n",
    "    elif (phase >= 5 and phase < 6) and (\"EndGrainFilling\" not in calendarMoments ):\n",
    "        calendarMoments.append(\"EndGrainFilling\")\n",
    "        calendarCumuls.append(cumulTT)\n",
    "        calendarDates.append(currentdate)\n",
    "    elif (phase >= 6 and phase < 7)  and (\"Maturity\" not in calendarMoments ):\n",
    "        calendarMoments.append(\"Maturity\")\n",
    "        calendarCumuls.append(cumulTT)\n",
    "        calendarDates.append(currentdate)\n",
    "    return  calendarMoments, calendarDates, calendarCumuls\n"
   ]
  },
  {
   "cell_type": "markdown",
   "metadata": {},
   "source": [
    "## Run the model with a set of parameters.\n",
    "Each run will be defined in its own cell."
   ]
  },
  {
   "cell_type": "code",
   "execution_count": null,
   "metadata": {},
   "outputs": [],
   "source": [
    "params= updatecalendar(\n",
    "    phase = 1,\n",
    "    cumulTT =  112.330110409888,\n",
    "    calendarDates = [\"21/3/2007\"],\n",
    "    calendarCumuls = [0.0],\n",
    "    calendarMoments = [\"Sowing\"],\n",
    "     )\n",
    "print('calendarMoments_estimated =')\n",
    "print(params[0])\n",
    "# calendarMoments_computed = [\"Sowing\", \"Emergence\"]\n",
    "print('calendarCumuls_estimated =')\n",
    "print(np.around(params[2], 2))\n",
    "# calendarCumuls_computed = [ 0.0 ,112.33]"
   ]
  }
 ],
 "metadata": {},
 "nbformat": 4,
 "nbformat_minor": 2
}
