{
 "cells": [
  {
   "cell_type": "markdown",
   "id": "ddc6ccf5",
   "metadata": {},
   "source": [
    "# Automatic generation of Notebook using PyCropML\n",
    "    This notebook implements a crop model."
   ]
  },
  {
   "cell_type": "markdown",
   "id": "4cf57f88",
   "metadata": {},
   "source": [
    "### Model Registerzadok"
   ]
  }
 ],
 "metadata": {},
 "nbformat": 4,
 "nbformat_minor": 5
}
