{
 "cells": [
  {
   "cell_type": "markdown",
   "id": "7e56f8b1",
   "metadata": {},
   "source": [
    "# Automatic generation of Notebook using PyCropML\n",
    "    This notebook implements a crop model."
   ]
  },
  {
   "cell_type": "markdown",
   "id": "de8521b4",
   "metadata": {},
   "source": [
    "### Model Ismomentregistredzc_39"
   ]
  }
 ],
 "metadata": {},
 "nbformat": 4,
 "nbformat_minor": 5
}
