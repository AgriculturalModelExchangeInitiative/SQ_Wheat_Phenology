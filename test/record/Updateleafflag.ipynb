{
 "cells": [
  {
   "cell_type": "markdown",
   "id": "b3be7ecb",
   "metadata": {},
   "source": [
    "# Automatic generation of Notebook using PyCropML\n",
    "    This notebook implements a crop model."
   ]
  },
  {
   "cell_type": "markdown",
   "id": "93cb57d2",
   "metadata": {},
   "source": [
    "### Model Updateleafflag"
   ]
  }
 ],
 "metadata": {},
 "nbformat": 4,
 "nbformat_minor": 5
}
