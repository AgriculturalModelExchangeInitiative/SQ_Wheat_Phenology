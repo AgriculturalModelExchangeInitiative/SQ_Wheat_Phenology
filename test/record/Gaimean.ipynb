{
 "cells": [
  {
   "cell_type": "markdown",
   "id": "c5f217cc",
   "metadata": {},
   "source": [
    "# Automatic generation of Notebook using PyCropML\n",
    "    This notebook implements a crop model."
   ]
  },
  {
   "cell_type": "markdown",
   "id": "e97b0cc7",
   "metadata": {},
   "source": [
    "### Model Gaimean"
   ]
  }
 ],
 "metadata": {},
 "nbformat": 4,
 "nbformat_minor": 5
}
