{
 "cells": [
  {
   "cell_type": "markdown",
   "id": "03c8527e",
   "metadata": {},
   "source": [
    "# Automatic generation of Notebook using PyCropML\n",
    "    This notebook implements a crop model."
   ]
  },
  {
   "cell_type": "markdown",
   "id": "1cae6011",
   "metadata": {},
   "source": [
    "### Model Ptq"
   ]
  }
 ],
 "metadata": {},
 "nbformat": 4,
 "nbformat_minor": 5
}
