{
 "cells": [
  {
   "cell_type": "markdown",
   "id": "b2f9991f",
   "metadata": {},
   "source": [
    "# Automatic generation of Notebook using PyCropML\n",
    "    This notebook implements a crop model."
   ]
  },
  {
   "cell_type": "markdown",
   "id": "6fb50081",
   "metadata": {},
   "source": [
    "### Model Updatecalendar"
   ]
  }
 ],
 "metadata": {},
 "nbformat": 4,
 "nbformat_minor": 5
}
