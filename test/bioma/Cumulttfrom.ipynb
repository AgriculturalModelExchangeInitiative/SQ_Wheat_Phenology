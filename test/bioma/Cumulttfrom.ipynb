{
 "cells": [
  {
   "cell_type": "markdown",
   "id": "e20b009f",
   "metadata": {},
   "source": [
    "# Automatic generation of Notebook using PyCropML\n",
    "    This notebook implements a crop model."
   ]
  },
  {
   "cell_type": "markdown",
   "id": "1ac8b5bc",
   "metadata": {},
   "source": [
    "### Model Cumulttfrom"
   ]
  }
 ],
 "metadata": {},
 "nbformat": 4,
 "nbformat_minor": 5
}
