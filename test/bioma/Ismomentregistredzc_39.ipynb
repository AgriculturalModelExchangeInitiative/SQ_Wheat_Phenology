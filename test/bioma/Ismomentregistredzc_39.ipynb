{
 "cells": [
  {
   "cell_type": "markdown",
   "id": "1857cad4",
   "metadata": {},
   "source": [
    "# Automatic generation of Notebook using PyCropML\n",
    "    This notebook implements a crop model."
   ]
  },
  {
   "cell_type": "markdown",
   "id": "f7c519f5",
   "metadata": {},
   "source": [
    "### Model Ismomentregistredzc_39"
   ]
  }
 ],
 "metadata": {},
 "nbformat": 4,
 "nbformat_minor": 5
}
