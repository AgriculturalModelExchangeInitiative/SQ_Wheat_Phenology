{
 "cells": [
  {
   "cell_type": "markdown",
   "id": "f710902a",
   "metadata": {},
   "source": [
    "# Automatic generation of Notebook using PyCropML\n",
    "    This notebook implements a crop model."
   ]
  },
  {
   "cell_type": "markdown",
   "id": "57be2c0d",
   "metadata": {},
   "source": [
    "### Model Vernalizationprogress"
   ]
  }
 ],
 "metadata": {},
 "nbformat": 4,
 "nbformat_minor": 5
}
