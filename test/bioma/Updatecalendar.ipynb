{
 "cells": [
  {
   "cell_type": "markdown",
   "id": "9c807b07",
   "metadata": {},
   "source": [
    "# Automatic generation of Notebook using PyCropML\n",
    "    This notebook implements a crop model."
   ]
  },
  {
   "cell_type": "markdown",
   "id": "655b9dc3",
   "metadata": {},
   "source": [
    "### Model Updatecalendar"
   ]
  }
 ],
 "metadata": {},
 "nbformat": 4,
 "nbformat_minor": 5
}
