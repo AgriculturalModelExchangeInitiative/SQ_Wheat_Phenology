{
 "cells": [
  {
   "cell_type": "markdown",
   "id": "d8bdade1",
   "metadata": {},
   "source": [
    "# Automatic generation of Notebook using PyCropML\n",
    "    This notebook implements a crop model."
   ]
  },
  {
   "cell_type": "markdown",
   "id": "7c276a0c",
   "metadata": {},
   "source": [
    "### Model Phylsowingdatecorrection"
   ]
  }
 ],
 "metadata": {},
 "nbformat": 4,
 "nbformat_minor": 5
}
