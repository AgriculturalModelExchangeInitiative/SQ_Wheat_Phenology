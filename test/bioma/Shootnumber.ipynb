{
 "cells": [
  {
   "cell_type": "markdown",
   "id": "f66a7e2b",
   "metadata": {},
   "source": [
    "# Automatic generation of Notebook using PyCropML\n",
    "    This notebook implements a crop model."
   ]
  },
  {
   "cell_type": "markdown",
   "id": "a62a242e",
   "metadata": {},
   "source": [
    "### Model Shootnumber"
   ]
  }
 ],
 "metadata": {},
 "nbformat": 4,
 "nbformat_minor": 5
}
