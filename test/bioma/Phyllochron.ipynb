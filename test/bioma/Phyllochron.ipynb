{
 "cells": [
  {
   "cell_type": "markdown",
   "id": "c1e7ed72",
   "metadata": {},
   "source": [
    "# Automatic generation of Notebook using PyCropML\n",
    "    This notebook implements a crop model."
   ]
  },
  {
   "cell_type": "markdown",
   "id": "f4262f94",
   "metadata": {},
   "source": [
    "### Model Phyllochron"
   ]
  }
 ],
 "metadata": {},
 "nbformat": 4,
 "nbformat_minor": 5
}
