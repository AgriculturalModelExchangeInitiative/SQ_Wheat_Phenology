{
 "cells": [
  {
   "cell_type": "markdown",
   "id": "58fef0e5",
   "metadata": {},
   "source": [
    "# Automatic generation of Notebook using PyCropML\n",
    "    This notebook implements a crop model."
   ]
  },
  {
   "cell_type": "markdown",
   "id": "b9839472",
   "metadata": {},
   "source": [
    "### Model Registerzadok"
   ]
  }
 ],
 "metadata": {},
 "nbformat": 4,
 "nbformat_minor": 5
}
