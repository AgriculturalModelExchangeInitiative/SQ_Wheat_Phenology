{
 "cells": [
  {
   "cell_type": "markdown",
   "id": "283053fa",
   "metadata": {},
   "source": [
    "# Automatic generation of Notebook using PyCropML\n",
    "    This notebook implements a crop model."
   ]
  },
  {
   "cell_type": "markdown",
   "id": "5cdeb453",
   "metadata": {},
   "source": [
    "### Model Gaimean"
   ]
  }
 ],
 "metadata": {},
 "nbformat": 4,
 "nbformat_minor": 5
}
