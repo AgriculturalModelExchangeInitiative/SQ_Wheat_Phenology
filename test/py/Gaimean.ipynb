{
 "cells": [
  {
   "cell_type": "markdown",
   "id": "55fb2ed4",
   "metadata": {},
   "source": [
    "# Automatic generation of Notebook using PyCropML\n",
    "    This notebook implements a crop model."
   ]
  },
  {
   "cell_type": "markdown",
   "id": "eb6a197d",
   "metadata": {},
   "source": [
    "### Model Gaimean"
   ]
  },
  {
   "cell_type": "code",
   "execution_count": null,
   "id": "d70350e1",
   "metadata": {},
   "outputs": [],
   "source": [
    "import numpy\n",
    "from datetime import datetime\n",
    "import sys\n",
    "sys.path.append(\"..\\..\\src\\py\\SQ_Wheat_Phenology\")\n",
    "from Gaimean import model_gaimean\n"
   ]
  },
  {
   "cell_type": "code",
   "execution_count": null,
   "id": "66aad7ed",
   "metadata": {},
   "outputs": [],
   "source": [
    "params= model_gaimean(\n",
    "    tTWindowForPTQ = 70.0,\n",
    "    gAI = 91.2,\n",
    "    deltaTT = 0.279,\n",
    "    pastMaxAI_t1 = 0.279,\n",
    "    listTTShootWindowForPTQ1_t1 = [0.0],\n",
    "    listGAITTWindowForPTQ_t1 = [0.0],\n",
    "     )\n",
    "gAImean_estimated = round(params[0], 2)\n",
    "gAImean_computed = 45.6\n",
    "assert (gAImean_estimated == gAImean_computed)\n",
    "pastMaxAI_estimated = round(params[1], 2)\n",
    "pastMaxAI_computed = 45.6\n",
    "assert (pastMaxAI_estimated == pastMaxAI_computed)\n",
    "listTTShootWindowForPTQ1_estimated = numpy.around(params[2], 2)\n",
    "listTTShootWindowForPTQ1_computed = [0.0, 0.28]\n",
    "assert numpy.all(listTTShootWindowForPTQ1_estimated == listTTShootWindowForPTQ1_computed)\n",
    "listGAITTWindowForPTQ_estimated = numpy.around(params[3], 2)\n",
    "listGAITTWindowForPTQ_computed = [0.0, 91.2]\n",
    "assert numpy.all(listGAITTWindowForPTQ_estimated == listGAITTWindowForPTQ_computed)"
   ]
  }
 ],
 "metadata": {},
 "nbformat": 4,
 "nbformat_minor": 5
}
