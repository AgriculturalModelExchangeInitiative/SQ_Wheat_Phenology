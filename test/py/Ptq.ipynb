{
 "cells": [
  {
   "cell_type": "markdown",
   "id": "5280c7fc",
   "metadata": {},
   "source": [
    "# Automatic generation of Notebook using PyCropML\n",
    "    This notebook implements a crop model."
   ]
  },
  {
   "cell_type": "markdown",
   "id": "9906bf23",
   "metadata": {},
   "source": [
    "### Model Ptq"
   ]
  },
  {
   "cell_type": "code",
   "execution_count": null,
   "id": "72e88dd9",
   "metadata": {},
   "outputs": [],
   "source": [
    "import numpy\n",
    "from datetime import datetime\n",
    "import sys\n",
    "sys.path.append(\"..\\..\\src\\py\\SQ_Wheat_Phenology\")\n",
    "from Ptq import model_ptq\n"
   ]
  },
  {
   "cell_type": "code",
   "execution_count": null,
   "id": "6fa5fbeb",
   "metadata": {},
   "outputs": [],
   "source": [
    "params= model_ptq(\n",
    "    tTWindowForPTQ = 70.0,\n",
    "    kl = 0.45,\n",
    "    listTTShootWindowForPTQ_t1 = [0.0],\n",
    "    listPARTTWindowForPTQ_t1 = [0.0],\n",
    "    listGAITTWindowForPTQ = [0.0, 5.2],\n",
    "    pAR = 0.0,\n",
    "    deltaTT = 21.3,\n",
    "     )\n",
    "listPARTTWindowForPTQ_estimated = numpy.around(params[0], 2)\n",
    "listPARTTWindowForPTQ_computed = [0.00, 0.0]\n",
    "assert numpy.all(listPARTTWindowForPTQ_estimated == listPARTTWindowForPTQ_computed)\n",
    "listTTShootWindowForPTQ_estimated = numpy.around(params[1], 2)\n",
    "listTTShootWindowForPTQ_computed = [0.0, 21.3]\n",
    "assert numpy.all(listTTShootWindowForPTQ_estimated == listTTShootWindowForPTQ_computed)\n",
    "ptq_estimated = round(params[2], 2)\n",
    "ptq_computed = 0.0\n",
    "assert (ptq_estimated == ptq_computed)"
   ]
  }
 ],
 "metadata": {},
 "nbformat": 4,
 "nbformat_minor": 5
}
