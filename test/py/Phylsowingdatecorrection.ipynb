{
 "cells": [
  {
   "cell_type": "markdown",
   "id": "12c9d67c",
   "metadata": {},
   "source": [
    "# Automatic generation of Notebook using PyCropML\n",
    "    This notebook implements a crop model."
   ]
  },
  {
   "cell_type": "markdown",
   "id": "9b8e813e",
   "metadata": {},
   "source": [
    "### Model Phylsowingdatecorrection"
   ]
  },
  {
   "cell_type": "code",
   "execution_count": null,
   "id": "8d1429f7",
   "metadata": {},
   "outputs": [],
   "source": [
    "import numpy\n",
    "from datetime import datetime\n",
    "import sys\n",
    "sys.path.append(\"..\\..\\src\\py\\SQ_Wheat_Phenology\")\n",
    "from Phylsowingdatecorrection import model_phylsowingdatecorrection\n"
   ]
  },
  {
   "cell_type": "code",
   "execution_count": null,
   "id": "7347f344",
   "metadata": {},
   "outputs": [],
   "source": [
    "params= model_phylsowingdatecorrection(\n",
    "    sowingDay = 80,\n",
    "    latitude = 33.069,\n",
    "    sDsa_sh = 151,\n",
    "    rp = 0.003,\n",
    "    sDws = 90,\n",
    "    sDsa_nh = 200,\n",
    "    p = 120,\n",
    "     )\n",
    "fixPhyll_estimated = round(params, 2)\n",
    "fixPhyll_computed = 91.2\n",
    "assert (fixPhyll_estimated == fixPhyll_computed)"
   ]
  }
 ],
 "metadata": {},
 "nbformat": 4,
 "nbformat_minor": 5
}
