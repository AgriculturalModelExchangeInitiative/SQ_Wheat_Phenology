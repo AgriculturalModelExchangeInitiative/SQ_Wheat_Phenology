{
 "cells": [
  {
   "cell_type": "markdown",
   "id": "55c54de0",
   "metadata": {},
   "source": [
    "# Automatic generation of Notebook using PyCropML\n",
    "    This notebook implements a crop model."
   ]
  },
  {
   "cell_type": "markdown",
   "id": "f00fda15",
   "metadata": {},
   "source": [
    "### Model Updatecalendar"
   ]
  },
  {
   "cell_type": "code",
   "execution_count": null,
   "id": "712ea543",
   "metadata": {},
   "outputs": [],
   "source": [
    "import numpy\n",
    "from datetime import datetime\n",
    "import sys\n",
    "sys.path.append(\"..\\..\\src\\py\\SQ_Wheat_Phenology\")\n",
    "from Updatecalendar import model_updatecalendar\n"
   ]
  },
  {
   "cell_type": "code",
   "execution_count": null,
   "id": "9d2e92cc",
   "metadata": {},
   "outputs": [],
   "source": [
    "params= model_updatecalendar(\n",
    "    cumulTT =  112.330110409888,\n",
    "    calendarMoments = [\"Sowing\"],\n",
    "    calendarDates = [datetime(2007, 3, 21) ,],\n",
    "    calendarCumuls = [0.0],\n",
    "    phase = 1,\n",
    "     )\n",
    "calendarMoments_estimated = params[0]\n",
    "calendarMoments_computed = [\"Sowing\", \"Emergence\"]\n",
    "assert numpy.all(calendarMoments_computed == calendarMoments_estimated)\n",
    "calendarDates_estimated = params[1]\n",
    "calendarDates_computed = [datetime(2007, 3, 21) ,datetime(2007, 3, 27) ,]\n",
    "assert numpy.all(calendarDates_computed == calendarDates_estimated)\n",
    "calendarCumuls_estimated = numpy.around(params[2], 2)\n",
    "calendarCumuls_computed = [ 0.0 ,112.33]\n",
    "assert numpy.all(calendarCumuls_estimated == calendarCumuls_computed)"
   ]
  }
 ],
 "metadata": {},
 "nbformat": 4,
 "nbformat_minor": 5
}
