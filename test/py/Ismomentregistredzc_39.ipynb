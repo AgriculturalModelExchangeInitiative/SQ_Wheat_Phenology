{
 "cells": [
  {
   "cell_type": "markdown",
   "id": "d0846ead",
   "metadata": {},
   "source": [
    "# Automatic generation of Notebook using PyCropML\n",
    "    This notebook implements a crop model."
   ]
  },
  {
   "cell_type": "markdown",
   "id": "7175c08e",
   "metadata": {},
   "source": [
    "### Model Ismomentregistredzc_39"
   ]
  },
  {
   "cell_type": "code",
   "execution_count": null,
   "id": "56fa613d",
   "metadata": {},
   "outputs": [],
   "source": [
    "import numpy\n",
    "from datetime import datetime\n",
    "import sys\n",
    "sys.path.append(\"..\\..\\src\\py\\SQ_Wheat_Phenology\")\n",
    "from Ismomentregistredzc_39 import model_ismomentregistredzc_39\n"
   ]
  },
  {
   "cell_type": "code",
   "execution_count": null,
   "id": "bc2f0056",
   "metadata": {},
   "outputs": [],
   "source": [
    "params= model_ismomentregistredzc_39(\n",
    "    calendarMoments_t1 = [\"Sowing\", \"Emergence\", \"FloralInitiation\", \"FlagLeafLiguleJustVisible\", \"Heading\", \"Anthesis\"],\n",
    "     )\n",
    "isMomentRegistredZC_39_estimated =params\n",
    "isMomentRegistredZC_39_computed = 1\n",
    "assert isMomentRegistredZC_39_computed == isMomentRegistredZC_39_estimated"
   ]
  }
 ],
 "metadata": {},
 "nbformat": 4,
 "nbformat_minor": 5
}
