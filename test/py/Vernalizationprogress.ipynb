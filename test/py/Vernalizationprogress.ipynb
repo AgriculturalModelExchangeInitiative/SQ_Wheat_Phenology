{
 "cells": [
  {
   "cell_type": "markdown",
   "id": "859ce99c",
   "metadata": {},
   "source": [
    "# Automatic generation of Notebook using PyCropML\n",
    "    This notebook implements a crop model."
   ]
  },
  {
   "cell_type": "markdown",
   "id": "86b91765",
   "metadata": {},
   "source": [
    "### Model Vernalizationprogress"
   ]
  },
  {
   "cell_type": "code",
   "execution_count": null,
   "id": "bcf13de7",
   "metadata": {},
   "outputs": [],
   "source": [
    "import numpy\n",
    "from datetime import datetime\n",
    "import sys\n",
    "sys.path.append(\"..\\..\\src\\py\\SQ_Wheat_Phenology\")\n",
    "from Vernalizationprogress import model_vernalizationprogress\n"
   ]
  },
  {
   "cell_type": "code",
   "execution_count": null,
   "id": "e4b905f8",
   "metadata": {},
   "outputs": [],
   "source": [
    "params= model_vernalizationprogress(\n",
    "    isVernalizable = 1,\n",
    "    minTvern = 0.0,\n",
    "    intTvern = 11.0,\n",
    "    vAI = 0.015,\n",
    "    vBEE = 0.01,\n",
    "    minDL = 8.0,\n",
    "    maxDL = 15.0,\n",
    "    maxTvern = 23.0,\n",
    "    pNini = 4.0,\n",
    "    aMXLFNO = 24.0,\n",
    "    cumulTT =  112.330110409888,\n",
    "     )\n",
    "vernaprog_estimated = round(params[0], 2)\n",
    "vernaprog_computed = 0.64\n",
    "assert (vernaprog_estimated == vernaprog_computed)\n",
    "minFinalNumber_estimated = round(params[1], 2)\n",
    "minFinalNumber_computed = 5.5\n",
    "assert (minFinalNumber_estimated == minFinalNumber_computed)\n",
    "calendarMoments_estimated = params[2]\n",
    "calendarMoments_computed = [\"Sowing\"]\n",
    "assert numpy.all(calendarMoments_computed == calendarMoments_estimated)\n",
    "calendarDates_estimated = params[3]\n",
    "calendarDates_computed = [datetime(2007, 3, 21) ,]\n",
    "assert numpy.all(calendarDates_computed == calendarDates_estimated)\n",
    "calendarCumuls_estimated = numpy.around(params[4], 2)\n",
    "calendarCumuls_computed = [0.0]\n",
    "assert numpy.all(calendarCumuls_estimated == calendarCumuls_computed)"
   ]
  }
 ],
 "metadata": {},
 "nbformat": 4,
 "nbformat_minor": 5
}
