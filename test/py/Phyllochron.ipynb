{
 "cells": [
  {
   "cell_type": "markdown",
   "id": "a105f509",
   "metadata": {},
   "source": [
    "# Automatic generation of Notebook using PyCropML\n",
    "    This notebook implements a crop model."
   ]
  },
  {
   "cell_type": "markdown",
   "id": "00d94873",
   "metadata": {},
   "source": [
    "### Model Phyllochron"
   ]
  },
  {
   "cell_type": "code",
   "execution_count": null,
   "id": "6517fa59",
   "metadata": {},
   "outputs": [],
   "source": [
    "import numpy\n",
    "from datetime import datetime\n",
    "import sys\n",
    "sys.path.append(\"..\\..\\src\\py\\SQ_Wheat_Phenology\")\n",
    "from Phyllochron import model_phyllochron\n"
   ]
  },
  {
   "cell_type": "code",
   "execution_count": null,
   "id": "228d3b90",
   "metadata": {},
   "outputs": [],
   "source": [
    "params= model_phyllochron(\n",
    "    lincr = 8.0,\n",
    "    ldecr = 3.0,\n",
    "    pdecr = 0.4,\n",
    "    pincr = 1.25,\n",
    "    ptq = 0.97,\n",
    "    kl = 0.45,\n",
    "    p = 120.0,\n",
    "    choosePhyllUse = \"Default\",\n",
    "    fixPhyll = 91.2,\n",
    "     )\n",
    "phyllochron_estimated = round(params, 2)\n",
    "phyllochron_computed = 36.48\n",
    "assert (phyllochron_estimated == phyllochron_computed)"
   ]
  }
 ],
 "metadata": {},
 "nbformat": 4,
 "nbformat_minor": 5
}
