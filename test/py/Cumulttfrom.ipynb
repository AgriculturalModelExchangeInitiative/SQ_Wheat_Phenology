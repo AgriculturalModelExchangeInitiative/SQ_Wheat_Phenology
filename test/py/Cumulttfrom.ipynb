{
 "cells": [
  {
   "cell_type": "markdown",
   "id": "8984e4f0",
   "metadata": {},
   "source": [
    "# Automatic generation of Notebook using PyCropML\n",
    "    This notebook implements a crop model."
   ]
  },
  {
   "cell_type": "markdown",
   "id": "729d23f7",
   "metadata": {},
   "source": [
    "### Model Cumulttfrom"
   ]
  },
  {
   "cell_type": "code",
   "execution_count": null,
   "id": "8812689f",
   "metadata": {},
   "outputs": [],
   "source": [
    "import numpy\n",
    "from datetime import datetime\n",
    "import sys\n",
    "sys.path.append(\"..\\..\\src\\py\\SQ_Wheat_Phenology\")\n",
    "from Cumulttfrom import model_cumulttfrom\n"
   ]
  },
  {
   "cell_type": "code",
   "execution_count": null,
   "id": "a66ec89a",
   "metadata": {},
   "outputs": [],
   "source": [
    "params= model_cumulttfrom(\n",
    "    calendarMoments_t1 = [\"Sowing\", \"Emergence\", \"FloralInitiation\", \"FlagLeafLiguleJustVisible\", \"Heading\", \"Anthesis\"],\n",
    "    calendarCumuls_t1 = [0.0, 112.330110409888, 354.582294511779, 741.510096671757, 853.999637026622, 954.59002776961],\n",
    "    cumulTT = 972.970888983105,\n",
    "     )\n",
    "cumulTTFromZC_65_estimated = round(params[0], 2)\n",
    "cumulTTFromZC_65_computed = 18.38\n",
    "assert (cumulTTFromZC_65_estimated == cumulTTFromZC_65_computed)\n",
    "cumulTTFromZC_39_estimated = round(params[1], 2)\n",
    "cumulTTFromZC_39_computed = 231.46\n",
    "assert (cumulTTFromZC_39_estimated == cumulTTFromZC_39_computed)\n",
    "cumulTTFromZC_91_estimated = round(params[2], 2)\n",
    "cumulTTFromZC_91_computed = 0\n",
    "assert (cumulTTFromZC_91_estimated == cumulTTFromZC_91_computed)"
   ]
  }
 ],
 "metadata": {},
 "nbformat": 4,
 "nbformat_minor": 5
}
