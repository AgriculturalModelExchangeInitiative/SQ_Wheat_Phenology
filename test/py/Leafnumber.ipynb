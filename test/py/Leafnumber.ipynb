{
 "cells": [
  {
   "cell_type": "markdown",
   "id": "25e01358",
   "metadata": {},
   "source": [
    "# Automatic generation of Notebook using PyCropML\n",
    "    This notebook implements a crop model."
   ]
  },
  {
   "cell_type": "markdown",
   "id": "6d90ee41",
   "metadata": {},
   "source": [
    "### Model Leafnumber"
   ]
  },
  {
   "cell_type": "code",
   "execution_count": null,
   "id": "6919c734",
   "metadata": {},
   "outputs": [],
   "source": [
    "import numpy\n",
    "from datetime import datetime\n",
    "import sys\n",
    "sys.path.append(\"..\\..\\src\\py\\SQ_Wheat_Phenology\")\n",
    "from Leafnumber import model_leafnumber\n"
   ]
  },
  {
   "cell_type": "code",
   "execution_count": null,
   "id": "f46b088b",
   "metadata": {},
   "outputs": [],
   "source": [
    "params= model_leafnumber(\n",
    "    leafNumber_t1 = 5.147163833893262,\n",
    "    phase = 3,\n",
    "    phyllochron_t1 = 91.2,\n",
    "     )\n",
    "leafNumber_estimated = round(params, 2)\n",
    "leafNumber_computed = 5.41\n",
    "assert (leafNumber_estimated == leafNumber_computed)"
   ]
  }
 ],
 "metadata": {},
 "nbformat": 4,
 "nbformat_minor": 5
}
