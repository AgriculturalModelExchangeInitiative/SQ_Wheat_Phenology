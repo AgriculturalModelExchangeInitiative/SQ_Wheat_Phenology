{
 "cells": [
  {
   "cell_type": "markdown",
   "id": "0632da89",
   "metadata": {},
   "source": [
    "# Automatic generation of Notebook using PyCropML\n",
    "    This notebook implements a crop model."
   ]
  },
  {
   "cell_type": "markdown",
   "id": "abce84a6",
   "metadata": {},
   "source": [
    "### Model Updateleafflag"
   ]
  },
  {
   "cell_type": "code",
   "execution_count": null,
   "id": "4ae7568a",
   "metadata": {},
   "outputs": [],
   "source": [
    "import numpy\n",
    "from datetime import datetime\n",
    "import sys\n",
    "sys.path.append(\"..\\..\\src\\py\\SQ_Wheat_Phenology\")\n",
    "from Updateleafflag import model_updateleafflag\n"
   ]
  },
  {
   "cell_type": "code",
   "execution_count": null,
   "id": "15af643f",
   "metadata": {},
   "outputs": [],
   "source": [
    "params= model_updateleafflag(\n",
    "    hasFlagLeafLiguleAppeared_t1 = 0,\n",
    "    phase = 3,\n",
    "    calendarMoments = [\"Sowing\", \"Emergence\", \"EndVernalisation\", \"MainShootPlus1Tiller\", \"FloralInitiation\", \"MainShootPlus2Tiller\", \"TerminalSpikelet\", \"PseudoStemErection\", \"MainShootPlus3Tiller\", \"1stNodeDetectable\", \"2ndNodeDetectable\", \"FlagLeafJustVisible\"],\n",
    "    calendarDates = [datetime(2007, 3, 21) ,datetime(2007, 3, 27) ,datetime(2007, 3, 30) ,datetime(2007, 4, 5) ,datetime(2007, 4, 9) ,datetime(2007, 4, 10) ,datetime(2007, 4, 11) ,datetime(2007, 4, 12) ,datetime(2007, 4, 14) ,datetime(2007, 4, 15) ,datetime(2007, 4, 19) ,datetime(2007, 4, 24) ,],\n",
    "    calendarCumuls = [0.0, 112.330110409888, 157.969706915664, 280.570678654207, 354.582294511779, 378.453152853726, 402.042720581446, 424.98704708663, 467.23305195298, 487.544313430698, 560.665248444002, 646.389617338974],\n",
    "     )\n",
    "hasFlagLeafLiguleAppeared_estimated =params[0]\n",
    "hasFlagLeafLiguleAppeared_computed = 1\n",
    "assert hasFlagLeafLiguleAppeared_computed == hasFlagLeafLiguleAppeared_estimated\n",
    "calendarMoments_estimated = params[1]\n",
    "calendarMoments_computed = [\"Sowing\", \"Emergence\", \"EndVernalisation\", \"MainShootPlus1Tiller\", \"FloralInitiation\", \"MainShootPlus2Tiller\", \"TerminalSpikelet\", \"PseudoStemErection\", \"MainShootPlus3Tiller\", \"1stNodeDetectable\", \"2ndNodeDetectable\", \"FlagLeafJustVisible\", \"FlagLeafLiguleJustVisible\"]\n",
    "assert numpy.all(calendarMoments_computed == calendarMoments_estimated)\n",
    "calendarDates_estimated = params[2]\n",
    "calendarDates_computed = [datetime(2007, 3, 21) ,datetime(2007, 3, 27) ,datetime(2007, 3, 30) ,datetime(2007, 4, 5) ,datetime(2007, 4, 9) ,datetime(2007, 4, 10) ,datetime(2007, 4, 11) ,datetime(2007, 4, 12) ,datetime(2007, 4, 14) ,datetime(2007, 4, 15) ,datetime(2007, 4, 19) ,datetime(2007, 4, 24) ,datetime(2007, 4, 29) ,]\n",
    "assert numpy.all(calendarDates_computed == calendarDates_estimated)\n",
    "calendarCumuls_estimated = numpy.around(params[3], 2)\n",
    "calendarCumuls_computed = [0.0, 112.33, 157.97, 280.57, 354.58, 378.45, 402.04, 424.99, 467.23, 487.54, 560.67, 646.39, 741.51]\n",
    "assert numpy.all(calendarCumuls_estimated == calendarCumuls_computed)"
   ]
  }
 ],
 "metadata": {},
 "nbformat": 4,
 "nbformat_minor": 5
}
