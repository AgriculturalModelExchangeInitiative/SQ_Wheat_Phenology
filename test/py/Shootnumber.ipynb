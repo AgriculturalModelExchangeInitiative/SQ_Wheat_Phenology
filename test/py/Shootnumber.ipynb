{
 "cells": [
  {
   "cell_type": "markdown",
   "id": "1ddcd610",
   "metadata": {},
   "source": [
    "# Automatic generation of Notebook using PyCropML\n",
    "    This notebook implements a crop model."
   ]
  },
  {
   "cell_type": "markdown",
   "id": "4a67022c",
   "metadata": {},
   "source": [
    "### Model Shootnumber"
   ]
  },
  {
   "cell_type": "code",
   "execution_count": null,
   "id": "1062444e",
   "metadata": {},
   "outputs": [],
   "source": [
    "import numpy\n",
    "from datetime import datetime\n",
    "import sys\n",
    "sys.path.append(\"..\\..\\src\\py\\SQ_Wheat_Phenology\")\n",
    "from Shootnumber import model_shootnumber\n"
   ]
  },
  {
   "cell_type": "code",
   "execution_count": null,
   "id": "85bd6aff",
   "metadata": {},
   "outputs": [],
   "source": [
    "params= model_shootnumber(\n",
    "    targetFertileShoot = 600.0,\n",
    "    sowingDensity = 288.0,\n",
    "    canopyShootNumber_t1 = 288.0,\n",
    "    leafNumber = 3.34348137255,\n",
    "    leafTillerNumberArray_t1 = [1, 1, 1],\n",
    "    tilleringProfile_t1 = [288.0],\n",
    "     )\n",
    "averageShootNumberPerPlant_estimated = round(params[0], 2)\n",
    "averageShootNumberPerPlant_computed = 2\n",
    "assert (averageShootNumberPerPlant_estimated == averageShootNumberPerPlant_computed)\n",
    "canopyShootNumber_estimated = round(params[1], 1)\n",
    "canopyShootNumber_computed = 576\n",
    "assert (canopyShootNumber_estimated == canopyShootNumber_computed)\n",
    "leafTillerNumberArray_estimated =params[2]\n",
    "leafTillerNumberArray_computed = [1, 1, 1, 2]\n",
    "assert numpy.all(leafTillerNumberArray_estimated == leafTillerNumberArray_computed)\n",
    "tilleringProfile_estimated = numpy.around(params[3], 2)\n",
    "tilleringProfile_computed = [288.0, 288.0]\n",
    "assert numpy.all(tilleringProfile_estimated == tilleringProfile_computed)\n",
    "numberTillerCohort_estimated =params[4]\n",
    "numberTillerCohort_computed = 2\n",
    "assert numberTillerCohort_computed == numberTillerCohort_estimated"
   ]
  }
 ],
 "metadata": {},
 "nbformat": 4,
 "nbformat_minor": 5
}
