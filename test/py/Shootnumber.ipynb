{
 "cells": [
  {
   "cell_type": "markdown",
   "metadata": {},
   "source": [
    "# Automatic generation of Notebook using PyCropML\n",
    "    This notebook implements a crop model."
   ]
  },
  {
   "cell_type": "markdown",
   "metadata": {},
   "source": [
    "### Model Shootnumber"
   ]
  },
  {
   "cell_type": "code",
   "execution_count": 1,
   "metadata": {},
   "outputs": [],
   "source": [
    "# coding: utf8\n",
    "from pycropml.units import u\n",
    "from copy import copy\n",
    "from array import array\n",
    "\n",
    "import numpy\n",
    "from math import *\n",
    "\n",
    "def model_shootnumber(canopyShootNumber_t1 = 288.0,\n",
    "         leafNumber = 3.34,\n",
    "         sowingDensity = 288.0,\n",
    "         targetFertileShoot = 600.0,\n",
    "         tilleringProfile_t1 = [288.0],\n",
    "         leafTillerNumberArray_t1 = [1, 1, 1],\n",
    "         numberTillerCohort_t1 = 1):\n",
    "    \"\"\"\n",
    "     - Name: ShootNumber -Version: 1.0, -Time step: 1\n",
    "     - Description:\n",
    "                 * Title: CalculateShootNumber Model\n",
    "                 * Author: Pierre MARTRE\n",
    "                 * Reference: Modeling development phase in the \n",
    "                     Wheat Simulation Model SiriusQuality.\n",
    "                     See documentation at http://www1.clermont.inra.fr/siriusquality/?page_id=427\n",
    "                 * Institution: INRA/LEPSE Montpellier\n",
    "                 * Abstract: calculate the shoot number and update the related variables if needed\n",
    "     - inputs:\n",
    "                 * name: canopyShootNumber_t1\n",
    "                               ** description : shoot number for the whole canopy\n",
    "                               ** variablecategory : state\n",
    "                               ** datatype : DOUBLE\n",
    "                               ** min : 0\n",
    "                               ** max : 10000\n",
    "                               ** default : 288.0\n",
    "                               ** unit : shoot m-2\n",
    "                               ** inputtype : variable\n",
    "                 * name: leafNumber\n",
    "                               ** description : Leaf number \n",
    "                               ** variablecategory : state\n",
    "                               ** inputtype : variable\n",
    "                               ** datatype : DOUBLE\n",
    "                               ** min : 0\n",
    "                               ** max : 10000\n",
    "                               ** default : 3.34\n",
    "                               ** unit : leaf\n",
    "                 * name: sowingDensity\n",
    "                               ** description : number of plant /m²\n",
    "                               ** parametercategory : species\n",
    "                               ** datatype : DOUBLE\n",
    "                               ** min : 0\n",
    "                               ** max : 500\n",
    "                               ** default : 288.0\n",
    "                               ** unit : plant m-2\n",
    "                               ** inputtype : parameter\n",
    "                 * name: targetFertileShoot\n",
    "                               ** description : max value of shoot number for the canopy\n",
    "                               ** parametercategory : species\n",
    "                               ** datatype : DOUBLE\n",
    "                               ** min : 280\n",
    "                               ** max : 1000\n",
    "                               ** default : 600.0\n",
    "                               ** unit : shoot\n",
    "                               ** inputtype : variable\n",
    "                 * name: tilleringProfile_t1\n",
    "                               ** description :  store the amount of new tiller created at each time a new tiller appears\n",
    "                               ** variablecategory : state\n",
    "                               ** datatype : DOUBLELIST\n",
    "                               ** default : [288.0]\n",
    "                               ** unit : \n",
    "                               ** inputtype : variable\n",
    "                 * name: leafTillerNumberArray_t1\n",
    "                               ** description : store the number of tiller for each leaf layer\n",
    "                               ** variablecategory : state\n",
    "                               ** datatype : INTLIST\n",
    "                               ** unit : leaf\n",
    "                               ** default : [1, 1, 1]\n",
    "                               ** inputtype : variable\n",
    "                 * name: numberTillerCohort_t1\n",
    "                               ** description :  Number of tiller which appears\n",
    "                               ** variablecategory : state\n",
    "                               ** datatype : INT\n",
    "                               ** min : 0\n",
    "                               ** max : 10000\n",
    "                               ** default : 1\n",
    "                               ** unit : \n",
    "                               ** inputtype : variable\n",
    "     - outputs:\n",
    "                 * name: averageShootNumberPerPlant\n",
    "                               ** description : average shoot number per plant in the canopy\n",
    "                               ** variablecategory : state\n",
    "                               ** datatype : DOUBLE\n",
    "                               ** min : 0\n",
    "                               ** max : 10000\n",
    "                               ** unit : shoot m-2\n",
    "                 * name: canopyShootNumber\n",
    "                               ** description : shoot number for the whole canopy\n",
    "                               ** variablecategory : state\n",
    "                               ** datatype : DOUBLE\n",
    "                               ** min : 0\n",
    "                               ** max : 10000\n",
    "                               ** unit : shoot m-2\n",
    "                 * name: leafTillerNumberArray\n",
    "                               ** description : store the number of tiller for each leaf layer\n",
    "                               ** variablecategory : state\n",
    "                               ** datatype : INTLIST\n",
    "                               ** unit : leaf\n",
    "                 * name: tilleringProfile\n",
    "                               ** description :  store the amount of new tiller created at each time a new tiller appears\n",
    "                               ** variablecategory : state\n",
    "                               ** datatype : DOUBLELIST\n",
    "                               ** unit : dimensionless\n",
    "                 * name: numberTillerCohort\n",
    "                               ** description : Number of tiller which appears\n",
    "                               ** variablecategory : state\n",
    "                               ** datatype : INT\n",
    "                               ** min : 0\n",
    "                               ** max : 10000\n",
    "                               ** unit : dimensionless\n",
    "    \"\"\"\n",
    "\n",
    "    leafTillerNumberArray = []\n",
    "    tilleringProfile = []\n",
    "    lNumberArray_rate = []\n",
    "    emergedLeaves = max(1, ceil(leafNumber - 1.0))\n",
    "    shoots = fibonacci(emergedLeaves)\n",
    "    canopyShootNumber = min(shoots * sowingDensity, targetFertileShoot)\n",
    "    averageShootNumberPerPlant = canopyShootNumber / sowingDensity\n",
    "    if canopyShootNumber != canopyShootNumber_t1:\n",
    "        tilleringProfile = copy(tilleringProfile_t1)\n",
    "        tilleringProfile.append(canopyShootNumber - canopyShootNumber_t1)\n",
    "    numberTillerCohort = len(tilleringProfile)\n",
    "    for i in range(len(leafTillerNumberArray_t1) , ceil(leafNumber) , 1):\n",
    "        lNumberArray_rate.append(numberTillerCohort)\n",
    "    leafTillerNumberArray = copy(leafTillerNumberArray_t1)\n",
    "    leafTillerNumberArray.extend(lNumberArray_rate)\n",
    "    return (averageShootNumberPerPlant, canopyShootNumber, leafTillerNumberArray, tilleringProfile, numberTillerCohort)\n",
    "\n",
    "def fibonacci(n):\n",
    "    if n <= 1:\n",
    "        return n\n",
    "    else:\n",
    "        return fibonacci(n - 1) + fibonacci(n - 2)\n",
    "\n",
    "def init_shootnumber(sowingDensity = 288.0,\n",
    "         targetFertileShoot = 600.0):\n",
    "    tilleringProfile_t1 = []\n",
    "    leafTillerNumberArray_t1 = []\n",
    "    leafTillerNumberArray = []\n",
    "    tilleringProfile = []\n",
    "    canopyShootNumber = sowingDensity\n",
    "    averageShootNumberPerPlant = 1.0\n",
    "    tilleringProfile.append(sowingDensity)\n",
    "    numberTillerCohort = 1\n",
    "    leafTillerNumberArray = []\n",
    "    return (averageShootNumberPerPlant, canopyShootNumber, leafTillerNumberArray, tilleringProfile, numberTillerCohort)"
   ]
  },
  {
   "cell_type": "code",
   "execution_count": 2,
   "metadata": {},
   "outputs": [],
   "source": [
    "from pycropml.units import u"
   ]
  },
  {
   "cell_type": "code",
   "execution_count": 3,
   "metadata": {},
   "outputs": [
    {
     "ename": "SyntaxError",
     "evalue": "invalid syntax (<ipython-input-3-6ef04578b94a>, line 3)",
     "output_type": "error",
     "traceback": [
      "\u001b[1;36m  File \u001b[1;32m\"<ipython-input-3-6ef04578b94a>\"\u001b[1;36m, line \u001b[1;32m3\u001b[0m\n\u001b[1;33m    sowingDensity = 288.0*u.plant m-2,\u001b[0m\n\u001b[1;37m                                  ^\u001b[0m\n\u001b[1;31mSyntaxError\u001b[0m\u001b[1;31m:\u001b[0m invalid syntax\n"
     ]
    }
   ],
   "source": [
    "params= model_shootnumber(\n",
    "    targetFertileShoot = 600.0*u.shoot,\n",
    "    sowingDensity = 288.0*u.plant m-2,\n",
    "    canopyShootNumber_t1 = 288.0*u.shoot m-2,\n",
    "    leafNumber = 3.34348137255*u.leaf,\n",
    "    leafTillerNumberArray_t1 = [1, 1, 1]*u.leaf,\n",
    "    tilleringProfile_t1 = [288.0]*u.,\n",
    "     )\n",
    "averageShootNumberPerPlant_estimated =params[0].round(2)*params[0].units\n",
    "averageShootNumberPerPlant_computed = 2*u.shoot m-2\n",
    "assert averageShootNumberPerPlant_computed == averageShootNumberPerPlant_estimated\n",
    "canopyShootNumber_estimated =params[1].round(1)*params[1].units\n",
    "canopyShootNumber_computed = 576*u.shoot m-2\n",
    "assert canopyShootNumber_computed == canopyShootNumber_estimated\n",
    "leafTillerNumberArray_estimated =params[2]\n",
    "leafTillerNumberArray_computed = [1, 1, 1, 2]*u.leaf\n",
    "assert numpy.all(leafTillerNumberArray_estimated == leafTillerNumberArray_computed)\n",
    "tilleringProfile_estimated =params[3].round(2)*params[3].units\n",
    "tilleringProfile_computed = [288.0, 288.0]*u.dimensionless\n",
    "assert numpy.all(tilleringProfile_estimated == tilleringProfile_computed)\n",
    "numberTillerCohort_estimated =params[4]\n",
    "numberTillerCohort_computed = 2*u.dimensionless\n",
    "assert numberTillerCohort_computed == numberTillerCohort_estimated"
   ]
  },
  {
   "cell_type": "code",
   "execution_count": 4,
   "metadata": {},
   "outputs": [],
   "source": [
    "params= model_shootnumber(\n",
    "    targetFertileShoot = 600.0,\n",
    "    sowingDensity = 288.0,\n",
    "    canopyShootNumber_t1 = 288.0,\n",
    "    leafNumber = 3.34348137255,\n",
    "    leafTillerNumberArray_t1 = [1, 1, 1],\n",
    "    tilleringProfile_t1 = [288.0],\n",
    "     )"
   ]
  },
  {
   "cell_type": "code",
   "execution_count": 5,
   "metadata": {},
   "outputs": [
    {
     "data": {
      "text/plain": [
       "(2.0, 576.0, [1, 1, 1, 2], [288.0, 288.0], 2)"
      ]
     },
     "execution_count": 5,
     "metadata": {},
     "output_type": "execute_result"
    }
   ],
   "source": [
    "params"
   ]
  },
  {
   "cell_type": "code",
   "execution_count": 6,
   "metadata": {},
   "outputs": [],
   "source": [
    "x = ceil(10.3)"
   ]
  },
  {
   "cell_type": "code",
   "execution_count": 7,
   "metadata": {},
   "outputs": [
    {
     "data": {
      "text/plain": [
       "11"
      ]
     },
     "execution_count": 7,
     "metadata": {},
     "output_type": "execute_result"
    }
   ],
   "source": [
    "x"
   ]
  },
  {
   "cell_type": "code",
   "execution_count": 8,
   "metadata": {},
   "outputs": [
    {
     "data": {
      "text/plain": [
       "int"
      ]
     },
     "execution_count": 8,
     "metadata": {},
     "output_type": "execute_result"
    }
   ],
   "source": [
    "type(x)"
   ]
  },
  {
   "cell_type": "code",
   "execution_count": null,
   "metadata": {},
   "outputs": [],
   "source": []
  }
 ],
 "metadata": {
  "kernelspec": {
   "display_name": "Python 3",
   "language": "python",
   "name": "python3"
  },
  "language_info": {
   "codemirror_mode": {
    "name": "ipython",
    "version": 3
   },
   "file_extension": ".py",
   "mimetype": "text/x-python",
   "name": "python",
   "nbconvert_exporter": "python",
   "pygments_lexer": "ipython3",
   "version": "3.7.7"
  }
 },
 "nbformat": 4,
 "nbformat_minor": 4
}
