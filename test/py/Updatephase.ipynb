{
 "cells": [
  {
   "cell_type": "markdown",
   "id": "65d983aa",
   "metadata": {},
   "source": [
    "# Automatic generation of Notebook using PyCropML\n",
    "    This notebook implements a crop model."
   ]
  },
  {
   "cell_type": "markdown",
   "id": "5dac57e2",
   "metadata": {},
   "source": [
    "### Model Updatephase"
   ]
  },
  {
   "cell_type": "code",
   "execution_count": null,
   "id": "77c53cb4",
   "metadata": {},
   "outputs": [],
   "source": [
    "import numpy\n",
    "from datetime import datetime\n",
    "import sys\n",
    "sys.path.append(\"..\\..\\src\\py\\SQ_Wheat_Phenology\")\n",
    "from Updatephase import model_updatephase\n"
   ]
  },
  {
   "cell_type": "code",
   "execution_count": null,
   "id": "c220b5b4",
   "metadata": {},
   "outputs": [],
   "source": [
    "params= model_updatephase(\n",
    "    choosePhyllUse = \"Default\",\n",
    "    isVernalizable = 1,\n",
    "    dse = 105.0,\n",
    "    dcd = 100.0,\n",
    "    degfm = 0.0,\n",
    "    maxDL = 15.0,\n",
    "    sLDL = 0.85,\n",
    "    ignoreGrainMaturation = True,\n",
    "    pHEADANTH = 1.0,\n",
    "    p = 120,\n",
    "    phase_t1 = 1,\n",
    "    hasLastPrimordiumAppeared_t1 = 0,\n",
    "     )\n",
    "finalLeafNumber_estimated = round(params[0], 2)\n",
    "finalLeafNumber_computed = 8.80\n",
    "assert (finalLeafNumber_estimated == finalLeafNumber_computed)\n",
    "phase_estimated = round(params[1], 1)\n",
    "phase_computed = 2\n",
    "assert (phase_estimated == phase_computed)\n",
    "hasLastPrimordiumAppeared_estimated =params[2]\n",
    "hasLastPrimordiumAppeared_computed = 1\n",
    "assert hasLastPrimordiumAppeared_computed == hasLastPrimordiumAppeared_estimated"
   ]
  }
 ],
 "metadata": {},
 "nbformat": 4,
 "nbformat_minor": 5
}
