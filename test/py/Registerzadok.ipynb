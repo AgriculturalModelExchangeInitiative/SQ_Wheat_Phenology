{
 "cells": [
  {
   "cell_type": "markdown",
   "id": "4e3a8a04",
   "metadata": {},
   "source": [
    "# Automatic generation of Notebook using PyCropML\n",
    "    This notebook implements a crop model."
   ]
  },
  {
   "cell_type": "markdown",
   "id": "8c40256c",
   "metadata": {},
   "source": [
    "### Model Registerzadok"
   ]
  },
  {
   "cell_type": "code",
   "execution_count": null,
   "id": "97eff6db",
   "metadata": {},
   "outputs": [],
   "source": [
    "import numpy\n",
    "from datetime import datetime\n",
    "import sys\n",
    "sys.path.append(\"..\\..\\src\\py\\SQ_Wheat_Phenology\")\n",
    "from Registerzadok import model_registerzadok\n"
   ]
  },
  {
   "cell_type": "code",
   "execution_count": null,
   "id": "47029e76",
   "metadata": {},
   "outputs": [],
   "source": [
    "params= model_registerzadok(\n",
    "    slopeTSFLN = 0.9,\n",
    "    intTSFLN = 2.6,\n",
    "    der = 300.0,\n",
    "    calendarMoments = [\"Sowing\",\"Emergence\",\"EndVernalisation\",\"MainShootPlus1Tiller\"],\n",
    "    calendarDates = [datetime(2007, 3, 21) ,datetime(2007, 3, 27) ,datetime(2007, 3, 30) ,datetime(2007, 4, 5) ,],\n",
    "    calendarCumuls = [ 0.0, 112.330110409888,157.969706915664, 280.570678654207],\n",
    "    phase = 2,\n",
    "     )\n",
    "hasZadokStageChanged_estimated =params[0]\n",
    "hasZadokStageChanged_computed = 0\n",
    "assert hasZadokStageChanged_computed == hasZadokStageChanged_estimated\n",
    "currentZadokStage_estimated =params[1]\n",
    "currentZadokStage_computed = \"MainShootPlus1Tiller\"\n",
    "assert currentZadokStage_computed == currentZadokStage_estimated\n",
    "calendarMoments_estimated = params[2]\n",
    "calendarMoments_computed = [\"Sowing\",\"Emergence\",\"EndVernalisation\",\"MainShootPlus1Tiller\"]\n",
    "assert numpy.all(calendarMoments_computed == calendarMoments_estimated)\n",
    "calendarDates_estimated = params[3]\n",
    "calendarDates_computed = [datetime(2007, 3, 21) ,datetime(2007, 3, 27) ,datetime(2007, 3, 30) ,datetime(2007, 4, 5) ,]\n",
    "assert numpy.all(calendarDates_computed == calendarDates_estimated)\n",
    "calendarCumuls_estimated = numpy.around(params[4], 2)\n",
    "calendarCumuls_computed = [ 0.0, 112.33,157.97, 280.57]\n",
    "assert numpy.all(calendarCumuls_estimated == calendarCumuls_computed)"
   ]
  }
 ],
 "metadata": {},
 "nbformat": 4,
 "nbformat_minor": 5
}
