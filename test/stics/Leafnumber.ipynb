{
 "cells": [
  {
   "cell_type": "markdown",
   "id": "54a5fdcd",
   "metadata": {},
   "source": [
    "# Automatic generation of Notebook using PyCropML\n",
    "    This notebook implements a crop model."
   ]
  },
  {
   "cell_type": "markdown",
   "id": "604118a9",
   "metadata": {},
   "source": [
    "### Model Leafnumber"
   ]
  }
 ],
 "metadata": {},
 "nbformat": 4,
 "nbformat_minor": 5
}
