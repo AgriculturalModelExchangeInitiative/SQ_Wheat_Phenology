{
 "cells": [
  {
   "cell_type": "markdown",
   "id": "26f47d57",
   "metadata": {},
   "source": [
    "# Automatic generation of Notebook using PyCropML\n",
    "    This notebook implements a crop model."
   ]
  },
  {
   "cell_type": "markdown",
   "id": "bbcb0ef6",
   "metadata": {},
   "source": [
    "### Model Updateleafflag"
   ]
  }
 ],
 "metadata": {},
 "nbformat": 4,
 "nbformat_minor": 5
}
