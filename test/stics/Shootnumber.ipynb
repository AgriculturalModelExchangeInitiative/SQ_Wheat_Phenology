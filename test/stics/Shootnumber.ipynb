{
 "cells": [
  {
   "cell_type": "markdown",
   "id": "26b42c2d",
   "metadata": {},
   "source": [
    "# Automatic generation of Notebook using PyCropML\n",
    "    This notebook implements a crop model."
   ]
  },
  {
   "cell_type": "markdown",
   "id": "c66186f7",
   "metadata": {},
   "source": [
    "### Model Shootnumber"
   ]
  }
 ],
 "metadata": {},
 "nbformat": 4,
 "nbformat_minor": 5
}
