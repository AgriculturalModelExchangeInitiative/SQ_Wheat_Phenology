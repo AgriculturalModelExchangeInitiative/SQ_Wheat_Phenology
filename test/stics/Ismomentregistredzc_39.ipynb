{
 "cells": [
  {
   "cell_type": "markdown",
   "id": "1a8b686f",
   "metadata": {},
   "source": [
    "# Automatic generation of Notebook using PyCropML\n",
    "    This notebook implements a crop model."
   ]
  },
  {
   "cell_type": "markdown",
   "id": "2953c2f9",
   "metadata": {},
   "source": [
    "### Model Ismomentregistredzc_39"
   ]
  }
 ],
 "metadata": {},
 "nbformat": 4,
 "nbformat_minor": 5
}
