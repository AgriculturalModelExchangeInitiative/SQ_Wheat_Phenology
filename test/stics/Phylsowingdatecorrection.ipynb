{
 "cells": [
  {
   "cell_type": "markdown",
   "id": "8159be8e",
   "metadata": {},
   "source": [
    "# Automatic generation of Notebook using PyCropML\n",
    "    This notebook implements a crop model."
   ]
  },
  {
   "cell_type": "markdown",
   "id": "b2c08d3f",
   "metadata": {},
   "source": [
    "### Model Phylsowingdatecorrection"
   ]
  }
 ],
 "metadata": {},
 "nbformat": 4,
 "nbformat_minor": 5
}
