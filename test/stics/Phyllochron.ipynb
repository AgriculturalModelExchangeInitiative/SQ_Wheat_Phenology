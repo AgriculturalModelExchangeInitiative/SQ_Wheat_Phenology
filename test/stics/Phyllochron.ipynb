{
 "cells": [
  {
   "cell_type": "markdown",
   "id": "b50ea9a3",
   "metadata": {},
   "source": [
    "# Automatic generation of Notebook using PyCropML\n",
    "    This notebook implements a crop model."
   ]
  },
  {
   "cell_type": "markdown",
   "id": "e4c19a37",
   "metadata": {},
   "source": [
    "### Model Phyllochron"
   ]
  }
 ],
 "metadata": {},
 "nbformat": 4,
 "nbformat_minor": 5
}
