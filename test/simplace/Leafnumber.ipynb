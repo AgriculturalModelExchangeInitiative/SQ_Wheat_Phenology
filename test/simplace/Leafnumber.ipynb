{
 "cells": [
  {
   "cell_type": "markdown",
   "id": "e6846039",
   "metadata": {},
   "source": [
    "# Automatic generation of Notebook using PyCropML\n",
    "    This notebook implements a crop model."
   ]
  },
  {
   "cell_type": "markdown",
   "id": "7c8d85d4",
   "metadata": {},
   "source": [
    "### Model Leafnumber"
   ]
  }
 ],
 "metadata": {},
 "nbformat": 4,
 "nbformat_minor": 5
}
