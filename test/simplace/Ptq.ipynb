{
 "cells": [
  {
   "cell_type": "markdown",
   "id": "4c4fe458",
   "metadata": {},
   "source": [
    "# Automatic generation of Notebook using PyCropML\n",
    "    This notebook implements a crop model."
   ]
  },
  {
   "cell_type": "markdown",
   "id": "7b0e337e",
   "metadata": {},
   "source": [
    "### Model Ptq"
   ]
  }
 ],
 "metadata": {},
 "nbformat": 4,
 "nbformat_minor": 5
}
