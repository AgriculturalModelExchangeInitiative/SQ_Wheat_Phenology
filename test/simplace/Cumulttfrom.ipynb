{
 "cells": [
  {
   "cell_type": "markdown",
   "id": "edf3b716",
   "metadata": {},
   "source": [
    "# Automatic generation of Notebook using PyCropML\n",
    "    This notebook implements a crop model."
   ]
  },
  {
   "cell_type": "markdown",
   "id": "bd03e47f",
   "metadata": {},
   "source": [
    "### Model Cumulttfrom"
   ]
  }
 ],
 "metadata": {},
 "nbformat": 4,
 "nbformat_minor": 5
}
