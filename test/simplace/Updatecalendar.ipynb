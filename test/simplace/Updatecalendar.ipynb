{
 "cells": [
  {
   "cell_type": "markdown",
   "id": "5495b276",
   "metadata": {},
   "source": [
    "# Automatic generation of Notebook using PyCropML\n",
    "    This notebook implements a crop model."
   ]
  },
  {
   "cell_type": "markdown",
   "id": "0e00269d",
   "metadata": {},
   "source": [
    "### Model Updatecalendar"
   ]
  }
 ],
 "metadata": {},
 "nbformat": 4,
 "nbformat_minor": 5
}
