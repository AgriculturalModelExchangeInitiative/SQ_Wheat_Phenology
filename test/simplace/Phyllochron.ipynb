{
 "cells": [
  {
   "cell_type": "markdown",
   "id": "b495951c",
   "metadata": {},
   "source": [
    "# Automatic generation of Notebook using PyCropML\n",
    "    This notebook implements a crop model."
   ]
  },
  {
   "cell_type": "markdown",
   "id": "5196c89d",
   "metadata": {},
   "source": [
    "### Model Phyllochron"
   ]
  }
 ],
 "metadata": {},
 "nbformat": 4,
 "nbformat_minor": 5
}
