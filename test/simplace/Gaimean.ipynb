{
 "cells": [
  {
   "cell_type": "markdown",
   "id": "eff54ec7",
   "metadata": {},
   "source": [
    "# Automatic generation of Notebook using PyCropML\n",
    "    This notebook implements a crop model."
   ]
  },
  {
   "cell_type": "markdown",
   "id": "8e4a16f8",
   "metadata": {},
   "source": [
    "### Model Gaimean"
   ]
  }
 ],
 "metadata": {},
 "nbformat": 4,
 "nbformat_minor": 5
}
