{
 "cells": [
  {
   "cell_type": "markdown",
   "id": "b40eb0a0",
   "metadata": {},
   "source": [
    "# Automatic generation of Notebook using PyCropML\n",
    "    This notebook implements a crop model."
   ]
  },
  {
   "cell_type": "markdown",
   "id": "8cb1f643",
   "metadata": {},
   "source": [
    "### Model Vernalizationprogress"
   ]
  }
 ],
 "metadata": {},
 "nbformat": 4,
 "nbformat_minor": 5
}
