{
 "cells": [
  {
   "cell_type": "markdown",
   "id": "459d786b",
   "metadata": {},
   "source": [
    "# Automatic generation of Notebook using PyCropML\n",
    "    This notebook implements a crop model."
   ]
  },
  {
   "cell_type": "markdown",
   "id": "451d81f5",
   "metadata": {},
   "source": [
    "### Model Updatephase"
   ]
  }
 ],
 "metadata": {},
 "nbformat": 4,
 "nbformat_minor": 5
}
