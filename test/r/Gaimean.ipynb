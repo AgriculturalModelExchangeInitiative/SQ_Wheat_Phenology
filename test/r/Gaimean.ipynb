{
 "cells": [
  {
   "cell_type": "markdown",
   "id": "6b6291b5",
   "metadata": {},
   "source": [
    "# Automatic generation of Notebook using PyCropML\n",
    "    This notebook implements a crop model."
   ]
  },
  {
   "cell_type": "markdown",
   "id": "0bcf8e94",
   "metadata": {},
   "source": [
    "### Model Gaimean"
   ]
  },
  {
   "cell_type": "code",
   "execution_count": null,
   "id": "7c9af49b",
   "metadata": {},
   "outputs": [],
   "source": [
    "source(\"../../src/r/SQ_Wheat_Phenology/Gaimean.r\")\n",
    "library(assertthat)\n"
   ]
  },
  {
   "cell_type": "code",
   "execution_count": null,
   "id": "0952628b",
   "metadata": {},
   "outputs": [],
   "source": [
    "\n",
    "\n",
    "test_test_wheat1<-function(){\n",
    "    params= model_gaimean(\n",
    "        tTWindowForPTQ = 70.0,\n",
    "        gAI = 91.2,\n",
    "        deltaTT = 0.279,\n",
    "        pastMaxAI_t1 = 0.279,\n",
    "        listTTShootWindowForPTQ1_t1 = c(0.0),\n",
    "        listGAITTWindowForPTQ_t1 = c(0.0)\n",
    "        )\n",
    "    gAImean_estimated = params$gAImean\n",
    "    gAImean_computed = 45.6\n",
    "    assert_that(all.equal(gAImean_estimated, gAImean_computed, scale=1, tol=0.2)==TRUE)\n",
    "    pastMaxAI_estimated = params$pastMaxAI\n",
    "    pastMaxAI_computed = 45.6\n",
    "    assert_that(all.equal(pastMaxAI_estimated, pastMaxAI_computed, scale=1, tol=0.2)==TRUE)\n",
    "    listTTShootWindowForPTQ1_estimated = params$listTTShootWindowForPTQ1\n",
    "    listTTShootWindowForPTQ1_computed = c(0.0,0.28)\n",
    "    assert_that(all.equal(listTTShootWindowForPTQ1_estimated, listTTShootWindowForPTQ1_computed, scale=1, tol=0.2)==TRUE)\n",
    "    listGAITTWindowForPTQ_estimated = params$listGAITTWindowForPTQ\n",
    "    listGAITTWindowForPTQ_computed = c(0.0,91.2)\n",
    "    assert_that(all.equal(listGAITTWindowForPTQ_estimated, listGAITTWindowForPTQ_computed, scale=1, tol=0.2)==TRUE)\n",
    "}\n",
    "test_test_wheat1()"
   ]
  }
 ],
 "metadata": {},
 "nbformat": 4,
 "nbformat_minor": 5
}
