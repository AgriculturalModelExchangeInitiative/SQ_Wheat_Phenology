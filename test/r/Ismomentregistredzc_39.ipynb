{
 "cells": [
  {
   "cell_type": "markdown",
   "id": "81a507c6",
   "metadata": {},
   "source": [
    "# Automatic generation of Notebook using PyCropML\n",
    "    This notebook implements a crop model."
   ]
  },
  {
   "cell_type": "markdown",
   "id": "ab2eb97e",
   "metadata": {},
   "source": [
    "### Model Ismomentregistredzc_39"
   ]
  },
  {
   "cell_type": "code",
   "execution_count": null,
   "id": "15f779e8",
   "metadata": {},
   "outputs": [],
   "source": [
    "source(\"../../src/r/SQ_Wheat_Phenology/Ismomentregistredzc_39.r\")\n",
    "library(assertthat)\n"
   ]
  },
  {
   "cell_type": "code",
   "execution_count": null,
   "id": "6b025448",
   "metadata": {},
   "outputs": [],
   "source": [
    "\n",
    "\n",
    "test_test_wheat1<-function(){\n",
    "    params= model_ismomentregistredzc_39(\n",
    "        calendarMoments_t1 = c(\"Sowing\",\"Emergence\",\"FloralInitiation\",\"FlagLeafLiguleJustVisible\",\"Heading\",\"Anthesis\")\n",
    "        )\n",
    "    isMomentRegistredZC_39_estimated = params$isMomentRegistredZC_39\n",
    "    isMomentRegistredZC_39_computed = 1\n",
    "    assert_that(all.equal(isMomentRegistredZC_39_estimated, isMomentRegistredZC_39_computed)==TRUE)\n",
    "}\n",
    "test_test_wheat1()"
   ]
  }
 ],
 "metadata": {},
 "nbformat": 4,
 "nbformat_minor": 5
}
