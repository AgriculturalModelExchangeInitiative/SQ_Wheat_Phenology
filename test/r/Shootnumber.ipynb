{
 "cells": [
  {
   "cell_type": "markdown",
   "id": "4aab798f",
   "metadata": {},
   "source": [
    "# Automatic generation of Notebook using PyCropML\n",
    "    This notebook implements a crop model."
   ]
  },
  {
   "cell_type": "markdown",
   "id": "09805764",
   "metadata": {},
   "source": [
    "### Model Shootnumber"
   ]
  },
  {
   "cell_type": "code",
   "execution_count": null,
   "id": "4ed6dde1",
   "metadata": {},
   "outputs": [],
   "source": [
    "source(\"../../src/r/SQ_Wheat_Phenology/Shootnumber.r\")\n",
    "library(assertthat)\n"
   ]
  },
  {
   "cell_type": "code",
   "execution_count": null,
   "id": "31f7a28e",
   "metadata": {},
   "outputs": [],
   "source": [
    "\n",
    "\n",
    "test_test_wheat1<-function(){\n",
    "    params= model_shootnumber(\n",
    "        targetFertileShoot = 600.0,\n",
    "        sowingDensity = 288.0,\n",
    "        canopyShootNumber_t1 = 288.0,\n",
    "        leafNumber = 3.34348137255,\n",
    "        leafTillerNumberArray_t1 = c(1,1,1),\n",
    "        tilleringProfile_t1 = c(288.0)\n",
    "        )\n",
    "    averageShootNumberPerPlant_estimated = params$averageShootNumberPerPlant\n",
    "    averageShootNumberPerPlant_computed = 2\n",
    "    assert_that(all.equal(averageShootNumberPerPlant_estimated, averageShootNumberPerPlant_computed, scale=1, tol=0.2)==TRUE)\n",
    "    canopyShootNumber_estimated = params$canopyShootNumber\n",
    "    canopyShootNumber_computed = 576\n",
    "    assert_that(all.equal(canopyShootNumber_estimated, canopyShootNumber_computed, scale=1, tol=0.1)==TRUE)\n",
    "    leafTillerNumberArray_estimated = params$leafTillerNumberArray\n",
    "    leafTillerNumberArray_computed = c(1,1,1,2)\n",
    "    assert_that(all.equal(leafTillerNumberArray_estimated, leafTillerNumberArray_computed)==TRUE)\n",
    "    tilleringProfile_estimated = params$tilleringProfile\n",
    "    tilleringProfile_computed = c(288.0,288.0)\n",
    "    assert_that(all.equal(tilleringProfile_estimated, tilleringProfile_computed, scale=1, tol=0.2)==TRUE)\n",
    "    numberTillerCohort_estimated = params$numberTillerCohort\n",
    "    numberTillerCohort_computed = 2\n",
    "    assert_that(all.equal(numberTillerCohort_estimated, numberTillerCohort_computed)==TRUE)\n",
    "}\n",
    "test_test_wheat1()"
   ]
  }
 ],
 "metadata": {},
 "nbformat": 4,
 "nbformat_minor": 5
}
