{
 "cells": [
  {
   "cell_type": "markdown",
   "id": "166a5915",
   "metadata": {},
   "source": [
    "# Automatic generation of Notebook using PyCropML\n",
    "    This notebook implements a crop model."
   ]
  },
  {
   "cell_type": "markdown",
   "id": "697e5913",
   "metadata": {},
   "source": [
    "### Model Updatecalendar"
   ]
  },
  {
   "cell_type": "code",
   "execution_count": null,
   "id": "8ae0f69b",
   "metadata": {},
   "outputs": [],
   "source": [
    "source(\"../../src/r/SQ_Wheat_Phenology/Updatecalendar.r\")\n",
    "library(assertthat)\n"
   ]
  },
  {
   "cell_type": "code",
   "execution_count": null,
   "id": "8c0e3d42",
   "metadata": {},
   "outputs": [],
   "source": [
    "\n",
    "\n",
    "test_test_wheat1<-function(){\n",
    "    params= model_updatecalendar(\n",
    "        cumulTT =  112.330110409888,\n",
    "        calendarMoments = c(\"Sowing\"),\n",
    "        calendarDates = c(\"2007/3/21\"),\n",
    "        calendarCumuls = c(0.0),\n",
    "        phase = 1\n",
    "        )\n",
    "    calendarMoments_estimated = params$calendarMoments\n",
    "    calendarMoments_computed = c(\"Sowing\",\"Emergence\")\n",
    "    assert_that(all.equal(calendarMoments_estimated, calendarMoments_computed)==TRUE)\n",
    "    calendarDates_estimated = params$calendarDates\n",
    "    calendarDates_computed = c(\"2007/3/21\",\"2007/3/27\")\n",
    "    assert_that(all.equal(calendarDates_estimated, calendarDates_computed)==TRUE)\n",
    "    calendarCumuls_estimated = params$calendarCumuls\n",
    "    calendarCumuls_computed = c(0.0,112.33)\n",
    "    assert_that(all.equal(calendarCumuls_estimated, calendarCumuls_computed, scale=1, tol=0.2)==TRUE)\n",
    "}\n",
    "test_test_wheat1()"
   ]
  }
 ],
 "metadata": {},
 "nbformat": 4,
 "nbformat_minor": 5
}
