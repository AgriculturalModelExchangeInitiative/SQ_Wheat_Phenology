{
 "cells": [
  {
   "cell_type": "markdown",
   "id": "a488b9bd",
   "metadata": {},
   "source": [
    "# Automatic generation of Notebook using PyCropML\n",
    "    This notebook implements a crop model."
   ]
  },
  {
   "cell_type": "markdown",
   "id": "f5a239d4",
   "metadata": {},
   "source": [
    "### Model Updateleafflag"
   ]
  },
  {
   "cell_type": "code",
   "execution_count": null,
   "id": "48fcc28e",
   "metadata": {},
   "outputs": [],
   "source": [
    "source(\"../../src/r/SQ_Wheat_Phenology/Updateleafflag.r\")\n",
    "library(assertthat)\n"
   ]
  },
  {
   "cell_type": "code",
   "execution_count": null,
   "id": "e9cc3ac5",
   "metadata": {},
   "outputs": [],
   "source": [
    "\n",
    "\n",
    "test_test_wheat1<-function(){\n",
    "    params= model_updateleafflag(\n",
    "        hasFlagLeafLiguleAppeared_t1 = 0,\n",
    "        phase = 3,\n",
    "        calendarMoments = c(\"Sowing\",\"Emergence\",\"EndVernalisation\",\"MainShootPlus1Tiller\",\"FloralInitiation\",\"MainShootPlus2Tiller\",\"TerminalSpikelet\",\"PseudoStemErection\",\"MainShootPlus3Tiller\",\"1stNodeDetectable\",\"2ndNodeDetectable\",\"FlagLeafJustVisible\"),\n",
    "        calendarDates = c(\"2007/3/21\",\"2007/3/27\",\"2007/3/30\",\"2007/4/5\",\"2007/4/9\",\"2007/4/10\",\"2007/4/11\",\"2007/4/12\",\"2007/4/14\",\"2007/4/15\",\"2007/4/19\",\"2007/4/24\"),\n",
    "        calendarCumuls = c(0.0,112.330110409888,157.969706915664,280.570678654207,354.582294511779,378.453152853726,402.042720581446,424.98704708663,467.23305195298,487.544313430698,560.665248444002,646.389617338974)\n",
    "        )\n",
    "    hasFlagLeafLiguleAppeared_estimated = params$hasFlagLeafLiguleAppeared\n",
    "    hasFlagLeafLiguleAppeared_computed = 1\n",
    "    assert_that(all.equal(hasFlagLeafLiguleAppeared_estimated, hasFlagLeafLiguleAppeared_computed)==TRUE)\n",
    "    calendarMoments_estimated = params$calendarMoments\n",
    "    calendarMoments_computed = c(\"Sowing\",\"Emergence\",\"EndVernalisation\",\"MainShootPlus1Tiller\",\"FloralInitiation\",\"MainShootPlus2Tiller\",\"TerminalSpikelet\",\"PseudoStemErection\",\"MainShootPlus3Tiller\",\"1stNodeDetectable\",\"2ndNodeDetectable\",\"FlagLeafJustVisible\",\"FlagLeafLiguleJustVisible\")\n",
    "    assert_that(all.equal(calendarMoments_estimated, calendarMoments_computed)==TRUE)\n",
    "    calendarDates_estimated = params$calendarDates\n",
    "    calendarDates_computed = c(\"2007/3/21\",\"2007/3/27\",\"2007/3/30\",\"2007/4/5\",\"2007/4/9\",\"2007/4/10\",\"2007/4/11\",\"2007/4/12\",\"2007/4/14\",\"2007/4/15\",\"2007/4/19\",\"2007/4/24\",\"2007/4/29\")\n",
    "    assert_that(all.equal(calendarDates_estimated, calendarDates_computed)==TRUE)\n",
    "    calendarCumuls_estimated = params$calendarCumuls\n",
    "    calendarCumuls_computed = c(0.0,112.33,157.97,280.57,354.58,378.45,402.04,424.99,467.23,487.54,560.67,646.39,741.51)\n",
    "    assert_that(all.equal(calendarCumuls_estimated, calendarCumuls_computed, scale=1, tol=0.2)==TRUE)\n",
    "}\n",
    "test_test_wheat1()"
   ]
  }
 ],
 "metadata": {},
 "nbformat": 4,
 "nbformat_minor": 5
}
