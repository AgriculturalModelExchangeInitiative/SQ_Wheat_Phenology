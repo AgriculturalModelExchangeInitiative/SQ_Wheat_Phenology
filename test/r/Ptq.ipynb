{
 "cells": [
  {
   "cell_type": "markdown",
   "id": "6f1e0299",
   "metadata": {},
   "source": [
    "# Automatic generation of Notebook using PyCropML\n",
    "    This notebook implements a crop model."
   ]
  },
  {
   "cell_type": "markdown",
   "id": "8c950c80",
   "metadata": {},
   "source": [
    "### Model Ptq"
   ]
  },
  {
   "cell_type": "code",
   "execution_count": null,
   "id": "8c64188a",
   "metadata": {},
   "outputs": [],
   "source": [
    "source(\"../../src/r/SQ_Wheat_Phenology/Ptq.r\")\n",
    "library(assertthat)\n"
   ]
  },
  {
   "cell_type": "code",
   "execution_count": null,
   "id": "64401cb5",
   "metadata": {},
   "outputs": [],
   "source": [
    "\n",
    "\n",
    "test_test_wheat1<-function(){\n",
    "    params= model_ptq(\n",
    "        tTWindowForPTQ = 70.0,\n",
    "        kl = 0.45,\n",
    "        listTTShootWindowForPTQ_t1 = c(0.0),\n",
    "        listPARTTWindowForPTQ_t1 = c(0.0),\n",
    "        listGAITTWindowForPTQ = c(0.0,5.2),\n",
    "        pAR = 0.0,\n",
    "        deltaTT = 21.3\n",
    "        )\n",
    "    listPARTTWindowForPTQ_estimated = params$listPARTTWindowForPTQ\n",
    "    listPARTTWindowForPTQ_computed = c(0.0,0.0)\n",
    "    assert_that(all.equal(listPARTTWindowForPTQ_estimated, listPARTTWindowForPTQ_computed, scale=1, tol=0.2)==TRUE)\n",
    "    listTTShootWindowForPTQ_estimated = params$listTTShootWindowForPTQ\n",
    "    listTTShootWindowForPTQ_computed = c(0.0,21.3)\n",
    "    assert_that(all.equal(listTTShootWindowForPTQ_estimated, listTTShootWindowForPTQ_computed, scale=1, tol=0.2)==TRUE)\n",
    "    ptq_estimated = params$ptq\n",
    "    ptq_computed = 0.0\n",
    "    assert_that(all.equal(ptq_estimated, ptq_computed, scale=1, tol=0.2)==TRUE)\n",
    "}\n",
    "test_test_wheat1()"
   ]
  }
 ],
 "metadata": {},
 "nbformat": 4,
 "nbformat_minor": 5
}
