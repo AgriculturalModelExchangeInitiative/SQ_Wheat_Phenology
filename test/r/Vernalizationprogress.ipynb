{
 "cells": [
  {
   "cell_type": "markdown",
   "id": "ba111e4b",
   "metadata": {},
   "source": [
    "# Automatic generation of Notebook using PyCropML\n",
    "    This notebook implements a crop model."
   ]
  },
  {
   "cell_type": "markdown",
   "id": "30ba3b34",
   "metadata": {},
   "source": [
    "### Model Vernalizationprogress"
   ]
  },
  {
   "cell_type": "code",
   "execution_count": null,
   "id": "3ff9fc48",
   "metadata": {},
   "outputs": [],
   "source": [
    "source(\"../../src/r/SQ_Wheat_Phenology/Vernalizationprogress.r\")\n",
    "library(assertthat)\n"
   ]
  },
  {
   "cell_type": "code",
   "execution_count": null,
   "id": "afdaf39b",
   "metadata": {},
   "outputs": [],
   "source": [
    "\n",
    "\n",
    "test_test_wheat1<-function(){\n",
    "    params= model_vernalizationprogress(\n",
    "        isVernalizable = 1,\n",
    "        minTvern = 0.0,\n",
    "        intTvern = 11.0,\n",
    "        vAI = 0.015,\n",
    "        vBEE = 0.01,\n",
    "        minDL = 8.0,\n",
    "        maxDL = 15.0,\n",
    "        maxTvern = 23.0,\n",
    "        pNini = 4.0,\n",
    "        aMXLFNO = 24.0,\n",
    "        cumulTT =  112.330110409888\n",
    "        )\n",
    "    vernaprog_estimated = params$vernaprog\n",
    "    vernaprog_computed = 0.64\n",
    "    assert_that(all.equal(vernaprog_estimated, vernaprog_computed, scale=1, tol=0.2)==TRUE)\n",
    "    minFinalNumber_estimated = params$minFinalNumber\n",
    "    minFinalNumber_computed = 5.5\n",
    "    assert_that(all.equal(minFinalNumber_estimated, minFinalNumber_computed, scale=1, tol=0.2)==TRUE)\n",
    "    calendarMoments_estimated = params$calendarMoments\n",
    "    calendarMoments_computed = c(\"Sowing\")\n",
    "    assert_that(all.equal(calendarMoments_estimated, calendarMoments_computed)==TRUE)\n",
    "    calendarDates_estimated = params$calendarDates\n",
    "    calendarDates_computed = c(\"2007/3/21\")\n",
    "    assert_that(all.equal(calendarDates_estimated, calendarDates_computed)==TRUE)\n",
    "    calendarCumuls_estimated = params$calendarCumuls\n",
    "    calendarCumuls_computed = c(0.0)\n",
    "    assert_that(all.equal(calendarCumuls_estimated, calendarCumuls_computed, scale=1, tol=0.2)==TRUE)\n",
    "}\n",
    "test_test_wheat1()"
   ]
  }
 ],
 "metadata": {},
 "nbformat": 4,
 "nbformat_minor": 5
}
