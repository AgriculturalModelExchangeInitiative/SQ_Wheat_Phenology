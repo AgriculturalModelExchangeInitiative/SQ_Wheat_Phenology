{
 "cells": [
  {
   "cell_type": "markdown",
   "id": "f07899b4",
   "metadata": {},
   "source": [
    "# Automatic generation of Notebook using PyCropML\n",
    "    This notebook implements a crop model."
   ]
  },
  {
   "cell_type": "markdown",
   "id": "88e38cba",
   "metadata": {},
   "source": [
    "### Model Cumulttfrom"
   ]
  },
  {
   "cell_type": "code",
   "execution_count": null,
   "id": "05fb30fb",
   "metadata": {},
   "outputs": [],
   "source": [
    "source(\"../../src/r/SQ_Wheat_Phenology/Cumulttfrom.r\")\n",
    "library(assertthat)\n"
   ]
  },
  {
   "cell_type": "code",
   "execution_count": null,
   "id": "cd08974c",
   "metadata": {},
   "outputs": [],
   "source": [
    "\n",
    "\n",
    "test_test_wheat1<-function(){\n",
    "    params= model_cumulttfrom(\n",
    "        calendarMoments_t1 = c(\"Sowing\",\"Emergence\",\"FloralInitiation\",\"FlagLeafLiguleJustVisible\",\"Heading\",\"Anthesis\"),\n",
    "        calendarCumuls_t1 = c(0.0,112.330110409888,354.582294511779,741.510096671757,853.999637026622,954.59002776961),\n",
    "        cumulTT = 972.970888983105\n",
    "        )\n",
    "    cumulTTFromZC_65_estimated = params$cumulTTFromZC_65\n",
    "    cumulTTFromZC_65_computed = 18.38\n",
    "    assert_that(all.equal(cumulTTFromZC_65_estimated, cumulTTFromZC_65_computed, scale=1, tol=0.2)==TRUE)\n",
    "    cumulTTFromZC_39_estimated = params$cumulTTFromZC_39\n",
    "    cumulTTFromZC_39_computed = 231.46\n",
    "    assert_that(all.equal(cumulTTFromZC_39_estimated, cumulTTFromZC_39_computed, scale=1, tol=0.2)==TRUE)\n",
    "    cumulTTFromZC_91_estimated = params$cumulTTFromZC_91\n",
    "    cumulTTFromZC_91_computed = 0\n",
    "    assert_that(all.equal(cumulTTFromZC_91_estimated, cumulTTFromZC_91_computed, scale=1, tol=0.2)==TRUE)\n",
    "}\n",
    "test_test_wheat1()"
   ]
  }
 ],
 "metadata": {},
 "nbformat": 4,
 "nbformat_minor": 5
}
