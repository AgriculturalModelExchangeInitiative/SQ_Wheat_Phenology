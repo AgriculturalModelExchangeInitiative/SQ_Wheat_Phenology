{
 "cells": [
  {
   "cell_type": "markdown",
   "id": "fadd9b80",
   "metadata": {},
   "source": [
    "# Automatic generation of Notebook using PyCropML\n",
    "    This notebook implements a crop model."
   ]
  },
  {
   "cell_type": "markdown",
   "id": "12a55db4",
   "metadata": {},
   "source": [
    "### Model Registerzadok"
   ]
  },
  {
   "cell_type": "code",
   "execution_count": null,
   "id": "8a05f857",
   "metadata": {},
   "outputs": [],
   "source": [
    "source(\"../../src/r/SQ_Wheat_Phenology/Registerzadok.r\")\n",
    "library(assertthat)\n"
   ]
  },
  {
   "cell_type": "code",
   "execution_count": null,
   "id": "38b20f93",
   "metadata": {},
   "outputs": [],
   "source": [
    "\n",
    "\n",
    "test_test_wheat1<-function(){\n",
    "    params= model_registerzadok(\n",
    "        slopeTSFLN = 0.9,\n",
    "        intTSFLN = 2.6,\n",
    "        der = 300.0,\n",
    "        calendarMoments = c(\"Sowing\",\"Emergence\",\"EndVernalisation\",\"MainShootPlus1Tiller\"),\n",
    "        calendarDates = c(\"2007/3/21\",\"2007/3/27\",\"2007/3/30\",\"2007/4/5\"),\n",
    "        calendarCumuls = c(0.0,112.330110409888,157.969706915664,280.570678654207),\n",
    "        phase = 2\n",
    "        )\n",
    "    calendarMoments_estimated = params$calendarMoments\n",
    "    calendarMoments_computed = c(\"Sowing\",\"Emergence\",\"EndVernalisation\",\"MainShootPlus1Tiller\")\n",
    "    assert_that(all.equal(calendarMoments_estimated, calendarMoments_computed)==TRUE)\n",
    "    calendarDates_estimated = params$calendarDates\n",
    "    calendarDates_computed = c(\"2007/3/21\",\"2007/3/27\",\"2007/3/30\",\"2007/4/5\")\n",
    "    assert_that(all.equal(calendarDates_estimated, calendarDates_computed)==TRUE)\n",
    "    calendarCumuls_estimated = params$calendarCumuls\n",
    "    calendarCumuls_computed = c(0.0,112.33,157.97,280.57)\n",
    "    assert_that(all.equal(calendarCumuls_estimated, calendarCumuls_computed, scale=1, tol=0.2)==TRUE)\n",
    "    currentZadokStage_estimated = params$currentZadokStage\n",
    "    currentZadokStage_computed = \"MainShootPlus1Tiller\"\n",
    "    assert_that(all.equal(currentZadokStage_estimated, currentZadokStage_computed)==TRUE)\n",
    "    hasZadokStageChanged_estimated = params$hasZadokStageChanged\n",
    "    hasZadokStageChanged_computed = 0\n",
    "    assert_that(all.equal(hasZadokStageChanged_estimated, hasZadokStageChanged_computed)==TRUE)\n",
    "}\n",
    "test_test_wheat1()"
   ]
  }
 ],
 "metadata": {},
 "nbformat": 4,
 "nbformat_minor": 5
}
