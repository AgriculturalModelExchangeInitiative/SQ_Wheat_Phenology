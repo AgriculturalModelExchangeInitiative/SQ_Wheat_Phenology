{
 "cells": [
  {
   "cell_type": "markdown",
   "id": "e7e28f74",
   "metadata": {},
   "source": [
    "# Automatic generation of Notebook using PyCropML\n",
    "    This notebook implements a crop model."
   ]
  },
  {
   "cell_type": "markdown",
   "id": "ca3ad673",
   "metadata": {},
   "source": [
    "### Model Updatephase"
   ]
  },
  {
   "cell_type": "code",
   "execution_count": null,
   "id": "c85f8da7",
   "metadata": {},
   "outputs": [],
   "source": [
    "source(\"../../src/r/SQ_Wheat_Phenology/Updatephase.r\")\n",
    "library(assertthat)\n"
   ]
  },
  {
   "cell_type": "code",
   "execution_count": null,
   "id": "0f034d3c",
   "metadata": {},
   "outputs": [],
   "source": [
    "\n",
    "\n",
    "test_test_wheat1<-function(){\n",
    "    params= model_updatephase(\n",
    "        choosePhyllUse = \"Default\",\n",
    "        isVernalizable = 1,\n",
    "        dse = 105.0,\n",
    "        dcd = 100.0,\n",
    "        degfm = 0.0,\n",
    "        maxDL = 15.0,\n",
    "        sLDL = 0.85,\n",
    "        ignoreGrainMaturation = TRUE,\n",
    "        pHEADANTH = 1.0,\n",
    "        p = 120,\n",
    "        phase_t1 = 1,\n",
    "        hasLastPrimordiumAppeared_t1 = 0\n",
    "        )\n",
    "    phase_estimated = params$phase\n",
    "    phase_computed = 2\n",
    "    assert_that(all.equal(phase_estimated, phase_computed, scale=1, tol=0.1)==TRUE)\n",
    "    hasLastPrimordiumAppeared_estimated = params$hasLastPrimordiumAppeared\n",
    "    hasLastPrimordiumAppeared_computed = 1\n",
    "    assert_that(all.equal(hasLastPrimordiumAppeared_estimated, hasLastPrimordiumAppeared_computed)==TRUE)\n",
    "    finalLeafNumber_estimated = params$finalLeafNumber\n",
    "    finalLeafNumber_computed = 8.80\n",
    "    assert_that(all.equal(finalLeafNumber_estimated, finalLeafNumber_computed, scale=1, tol=0.2)==TRUE)\n",
    "}\n",
    "test_test_wheat1()"
   ]
  }
 ],
 "metadata": {},
 "nbformat": 4,
 "nbformat_minor": 5
}
