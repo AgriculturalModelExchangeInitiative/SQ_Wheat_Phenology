{
 "cells": [
  {
   "cell_type": "markdown",
   "id": "94f7f4bb",
   "metadata": {},
   "source": [
    "# Automatic generation of Notebook using PyCropML\n",
    "    This notebook implements a crop model."
   ]
  },
  {
   "cell_type": "markdown",
   "id": "f660d9a3",
   "metadata": {},
   "source": [
    "### Model Phylsowingdatecorrection"
   ]
  },
  {
   "cell_type": "code",
   "execution_count": null,
   "id": "f717414b",
   "metadata": {},
   "outputs": [],
   "source": [
    "source(\"../../src/r/SQ_Wheat_Phenology/Phylsowingdatecorrection.r\")\n",
    "library(assertthat)\n"
   ]
  },
  {
   "cell_type": "code",
   "execution_count": null,
   "id": "f5778d09",
   "metadata": {},
   "outputs": [],
   "source": [
    "\n",
    "\n",
    "test_test_wheat1<-function(){\n",
    "    params= model_phylsowingdatecorrection(\n",
    "        sowingDay = 80,\n",
    "        latitude = 33.069,\n",
    "        sDsa_sh = 151,\n",
    "        rp = 0.003,\n",
    "        sDws = 90,\n",
    "        sDsa_nh = 200,\n",
    "        p = 120\n",
    "        )\n",
    "    fixPhyll_estimated = params$fixPhyll\n",
    "    fixPhyll_computed = 91.2\n",
    "    assert_that(all.equal(fixPhyll_estimated, fixPhyll_computed, scale=1, tol=0.2)==TRUE)\n",
    "}\n",
    "test_test_wheat1()"
   ]
  }
 ],
 "metadata": {},
 "nbformat": 4,
 "nbformat_minor": 5
}
