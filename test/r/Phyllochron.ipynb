{
 "cells": [
  {
   "cell_type": "markdown",
   "id": "750df4b2",
   "metadata": {},
   "source": [
    "# Automatic generation of Notebook using PyCropML\n",
    "    This notebook implements a crop model."
   ]
  },
  {
   "cell_type": "markdown",
   "id": "78da39d6",
   "metadata": {},
   "source": [
    "### Model Phyllochron"
   ]
  },
  {
   "cell_type": "code",
   "execution_count": null,
   "id": "ebda951e",
   "metadata": {},
   "outputs": [],
   "source": [
    "source(\"../../src/r/SQ_Wheat_Phenology/Phyllochron.r\")\n",
    "library(assertthat)\n"
   ]
  },
  {
   "cell_type": "code",
   "execution_count": null,
   "id": "5e9ceb91",
   "metadata": {},
   "outputs": [],
   "source": [
    "\n",
    "\n",
    "test_test_wheat1<-function(){\n",
    "    params= model_phyllochron(\n",
    "        lincr = 8.0,\n",
    "        ldecr = 3.0,\n",
    "        pdecr = 0.4,\n",
    "        pincr = 1.25,\n",
    "        ptq = 0.97,\n",
    "        kl = 0.45,\n",
    "        p = 120.0,\n",
    "        choosePhyllUse = \"Default\",\n",
    "        fixPhyll = 91.2\n",
    "        )\n",
    "    phyllochron_estimated = params$phyllochron\n",
    "    phyllochron_computed = 36.48\n",
    "    assert_that(all.equal(phyllochron_estimated, phyllochron_computed, scale=1, tol=0.2)==TRUE)\n",
    "}\n",
    "test_test_wheat1()"
   ]
  }
 ],
 "metadata": {},
 "nbformat": 4,
 "nbformat_minor": 5
}
