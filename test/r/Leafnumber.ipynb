{
 "cells": [
  {
   "cell_type": "markdown",
   "id": "280bf843",
   "metadata": {},
   "source": [
    "# Automatic generation of Notebook using PyCropML\n",
    "    This notebook implements a crop model."
   ]
  },
  {
   "cell_type": "markdown",
   "id": "c00577c8",
   "metadata": {},
   "source": [
    "### Model Leafnumber"
   ]
  },
  {
   "cell_type": "code",
   "execution_count": null,
   "id": "b367e53e",
   "metadata": {},
   "outputs": [],
   "source": [
    "source(\"../../src/r/SQ_Wheat_Phenology/Leafnumber.r\")\n",
    "library(assertthat)\n"
   ]
  },
  {
   "cell_type": "code",
   "execution_count": null,
   "id": "99cda608",
   "metadata": {},
   "outputs": [],
   "source": [
    "\n",
    "\n",
    "test_test_wheat1<-function(){\n",
    "    params= model_leafnumber(\n",
    "        leafNumber_t1 = 5.147163833893262,\n",
    "        phase = 3,\n",
    "        phyllochron_t1 = 91.2\n",
    "        )\n",
    "    leafNumber_estimated = params$leafNumber\n",
    "    leafNumber_computed = 5.41\n",
    "    assert_that(all.equal(leafNumber_estimated, leafNumber_computed, scale=1, tol=0.2)==TRUE)\n",
    "}\n",
    "test_test_wheat1()"
   ]
  }
 ],
 "metadata": {},
 "nbformat": 4,
 "nbformat_minor": 5
}
