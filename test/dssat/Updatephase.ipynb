{
 "cells": [
  {
   "cell_type": "markdown",
   "id": "cbdbd325",
   "metadata": {},
   "source": [
    "# Automatic generation of Notebook using PyCropML\n",
    "    This notebook implements a crop model."
   ]
  },
  {
   "cell_type": "markdown",
   "id": "c4df431d",
   "metadata": {},
   "source": [
    "### Model Updatephase"
   ]
  }
 ],
 "metadata": {},
 "nbformat": 4,
 "nbformat_minor": 5
}
