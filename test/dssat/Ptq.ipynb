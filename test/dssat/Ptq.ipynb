{
 "cells": [
  {
   "cell_type": "markdown",
   "id": "45919e93",
   "metadata": {},
   "source": [
    "# Automatic generation of Notebook using PyCropML\n",
    "    This notebook implements a crop model."
   ]
  },
  {
   "cell_type": "markdown",
   "id": "93a3f679",
   "metadata": {},
   "source": [
    "### Model Ptq"
   ]
  }
 ],
 "metadata": {},
 "nbformat": 4,
 "nbformat_minor": 5
}
