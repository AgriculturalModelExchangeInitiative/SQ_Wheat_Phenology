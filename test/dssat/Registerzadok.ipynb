{
 "cells": [
  {
   "cell_type": "markdown",
   "id": "e9a18e12",
   "metadata": {},
   "source": [
    "# Automatic generation of Notebook using PyCropML\n",
    "    This notebook implements a crop model."
   ]
  },
  {
   "cell_type": "markdown",
   "id": "23adb291",
   "metadata": {},
   "source": [
    "### Model Registerzadok"
   ]
  }
 ],
 "metadata": {},
 "nbformat": 4,
 "nbformat_minor": 5
}
