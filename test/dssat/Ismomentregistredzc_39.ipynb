{
 "cells": [
  {
   "cell_type": "markdown",
   "id": "99000672",
   "metadata": {},
   "source": [
    "# Automatic generation of Notebook using PyCropML\n",
    "    This notebook implements a crop model."
   ]
  },
  {
   "cell_type": "markdown",
   "id": "e9c5b43f",
   "metadata": {},
   "source": [
    "### Model Ismomentregistredzc_39"
   ]
  }
 ],
 "metadata": {},
 "nbformat": 4,
 "nbformat_minor": 5
}
