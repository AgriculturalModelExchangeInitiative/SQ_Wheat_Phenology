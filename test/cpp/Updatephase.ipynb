{
 "cells": [
  {
   "cell_type": "markdown",
   "id": "b371a307",
   "metadata": {},
   "source": [
    "# Automatic generation of Notebook using PyCropML\n",
    "    This notebook implements a crop model."
   ]
  },
  {
   "cell_type": "markdown",
   "id": "81963d33",
   "metadata": {},
   "source": [
    "### Model Updatephase"
   ]
  },
  {
   "cell_type": "code",
   "execution_count": null,
   "id": "53539cda",
   "metadata": {},
   "outputs": [],
   "source": [
    "#include \"..\\..\\src\\cpp\\SQ_Wheat_Phenology\\PhenologyState.cpp\"\n",
    "#include \"..\\..\\src\\cpp\\SQ_Wheat_Phenology\\PhenologyRate.cpp\"\n",
    "#include \"..\\..\\src\\cpp\\SQ_Wheat_Phenology\\PhenologyAuxiliary.cpp\"\n",
    "#include \"..\\..\\src\\cpp\\SQ_Wheat_Phenology\\PhenologyExogenous.cpp\"\n",
    "#include \"..\\..\\src\\cpp\\SQ_Wheat_Phenology\\Updatephase.cpp\"\n"
   ]
  },
  {
   "cell_type": "code",
   "execution_count": null,
   "id": "35d74dbc",
   "metadata": {},
   "outputs": [],
   "source": [
    "class Test\n",
    "{\n",
    "    private:\n",
    "        PhenologyState s;\n",
    "        PhenologyState s1;\n",
    "        PhenologyRate r;\n",
    "        PhenologyAuxiliary a;\n",
    "        PhenologyExogenous ex;\n",
    "        Updatephase mod;\n",
    "    public:\n",
    "        //check model1\n",
    "\n",
    "        // test_wheat1\n",
    "        void test_wheat1()\n",
    "        {\n",
    "            this->mod.setchoosePhyllUse(\"Default\");\n",
    "            this->mod.setisVernalizable(1);\n",
    "            this->mod.setdse(105.0);\n",
    "            this->mod.setdcd(100.0);\n",
    "            this->mod.setdegfm(0.0);\n",
    "            this->mod.setmaxDL(15.0);\n",
    "            this->mod.setsLDL(0.85);\n",
    "            this->mod.setignoreGrainMaturation(true);\n",
    "            this->mod.setpHEADANTH(1.0);\n",
    "            this->mod.setp(120);\n",
    "            this->s1.setphase(1);\n",
    "            this->s1.sethasLastPrimordiumAppeared(0);\n",
    "            this->a.setcumulTT(354.582294511779);\n",
    "            this->s1.setleafNumber( 4.620511621863958);\n",
    "            this->a.setcumulTTFromZC_39(0);\n",
    "            this->s.setisMomentRegistredZC_39(0);\n",
    "            this->a.setgAI(0.3255196285135);\n",
    "            this->a.setgrainCumulTT(0);\n",
    "            this->a.setdayLength(12.7433275303389);\n",
    "            this->s.setvernaprog( 1.0532526829571554);\n",
    "            this->s.setminFinalNumber(6.879410413987549);\n",
    "            this->a.setfixPhyll(91.2);\n",
    "            this->mod.setpFLLAnth(2.22);\n",
    "            this->mod.setdgf(450);\n",
    "            this->a.setcumulTTFromZC_91(0);\n",
    "            this->s.setphyllochron(91.2);\n",
    "            this->s1.setfinalLeafNumber(0);\n",
    "            this->mod.Calculate_Model(s,s1, r, a, ex);\n",
    "            //phase: 2;\n",
    "            cout << \"phase estimated :\\n\";\n",
    "            cout << \"\\t\" << this->s.getphase() << \"\\n\";\n",
    "            //hasLastPrimordiumAppeared: 1;\n",
    "            cout << \"hasLastPrimordiumAppeared estimated :\\n\";\n",
    "            cout << \"\\t\" << this->s.gethasLastPrimordiumAppeared() << \"\\n\";\n",
    "            //finalLeafNumber: 8.80;\n",
    "            cout << \"finalLeafNumber estimated :\\n\";\n",
    "            cout << \"\\t\" << this->s.getfinalLeafNumber() << \"\\n\";\n",
    "        };\n",
    "}\n"
   ]
  },
  {
   "cell_type": "code",
   "execution_count": null,
   "id": "588a3ce5",
   "metadata": {},
   "outputs": [],
   "source": [
    "Test t;\n",
    "t.test_wheat1();\n"
   ]
  }
 ],
 "metadata": {},
 "nbformat": 4,
 "nbformat_minor": 5
}
