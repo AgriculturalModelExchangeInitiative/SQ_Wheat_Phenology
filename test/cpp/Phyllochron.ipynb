{
 "cells": [
  {
   "cell_type": "markdown",
   "id": "7b83c1e9",
   "metadata": {},
   "source": [
    "# Automatic generation of Notebook using PyCropML\n",
    "    This notebook implements a crop model."
   ]
  },
  {
   "cell_type": "markdown",
   "id": "9bfc47ab",
   "metadata": {},
   "source": [
    "### Model Phyllochron"
   ]
  },
  {
   "cell_type": "code",
   "execution_count": null,
   "id": "f380ee12",
   "metadata": {},
   "outputs": [],
   "source": [
    "#include \"..\\..\\src\\cpp\\SQ_Wheat_Phenology\\PhenologyState.cpp\"\n",
    "#include \"..\\..\\src\\cpp\\SQ_Wheat_Phenology\\PhenologyRate.cpp\"\n",
    "#include \"..\\..\\src\\cpp\\SQ_Wheat_Phenology\\PhenologyAuxiliary.cpp\"\n",
    "#include \"..\\..\\src\\cpp\\SQ_Wheat_Phenology\\PhenologyExogenous.cpp\"\n",
    "#include \"..\\..\\src\\cpp\\SQ_Wheat_Phenology\\Phyllochron.cpp\"\n"
   ]
  },
  {
   "cell_type": "code",
   "execution_count": null,
   "id": "66a2be82",
   "metadata": {},
   "outputs": [],
   "source": [
    "class Test\n",
    "{\n",
    "    private:\n",
    "        PhenologyState s;\n",
    "        PhenologyState s1;\n",
    "        PhenologyRate r;\n",
    "        PhenologyAuxiliary a;\n",
    "        PhenologyExogenous ex;\n",
    "        Phyllochron mod;\n",
    "    public:\n",
    "        //check wheat model\n",
    "\n",
    "        // test_wheat1\n",
    "        void test_wheat1()\n",
    "        {\n",
    "            this->mod.setlincr(8.0);\n",
    "            this->mod.setldecr(3.0);\n",
    "            this->mod.setpdecr(0.4);\n",
    "            this->mod.setpincr(1.25);\n",
    "            this->s.setptq(0.97);\n",
    "            this->mod.setkl(0.45);\n",
    "            this->mod.setp(120.0);\n",
    "            this->mod.setchoosePhyllUse(\"Default\");\n",
    "            this->a.setfixPhyll(91.2);\n",
    "            this->s.setleafNumber(0.0);\n",
    "            this->s.setgAImean(0.0);\n",
    "            this->mod.setpTQhf(0.0);\n",
    "            this->mod.setB(20.0);\n",
    "            this->mod.setareaSL(0.0);\n",
    "            this->mod.setareaSS(0.0);\n",
    "            this->mod.setlARmin(0.0);\n",
    "            this->mod.setlARmax(0.0);\n",
    "            this->mod.setsowingDensity(0.0);\n",
    "            this->mod.setlNeff(0.0);\n",
    "            this->mod.Calculate_Model(s,s1, r, a, ex);\n",
    "            //phyllochron: 36.48;\n",
    "            cout << \"phyllochron estimated :\\n\";\n",
    "            cout << \"\\t\" << this->s.getphyllochron() << \"\\n\";\n",
    "        };\n",
    "}\n"
   ]
  },
  {
   "cell_type": "code",
   "execution_count": null,
   "id": "fbc18eb4",
   "metadata": {},
   "outputs": [],
   "source": [
    "Test t;\n",
    "t.test_wheat1();\n"
   ]
  }
 ],
 "metadata": {},
 "nbformat": 4,
 "nbformat_minor": 5
}
