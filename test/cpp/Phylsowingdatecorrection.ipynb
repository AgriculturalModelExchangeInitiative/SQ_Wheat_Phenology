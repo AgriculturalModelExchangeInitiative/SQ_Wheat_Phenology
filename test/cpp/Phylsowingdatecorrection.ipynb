{
 "cells": [
  {
   "cell_type": "markdown",
   "id": "e5fb3d5e",
   "metadata": {},
   "source": [
    "# Automatic generation of Notebook using PyCropML\n",
    "    This notebook implements a crop model."
   ]
  },
  {
   "cell_type": "markdown",
   "id": "3c7054ec",
   "metadata": {},
   "source": [
    "### Model Phylsowingdatecorrection"
   ]
  },
  {
   "cell_type": "code",
   "execution_count": null,
   "id": "dc1fb291",
   "metadata": {},
   "outputs": [],
   "source": [
    "#include \"..\\..\\src\\cpp\\SQ_Wheat_Phenology\\PhenologyState.cpp\"\n",
    "#include \"..\\..\\src\\cpp\\SQ_Wheat_Phenology\\PhenologyRate.cpp\"\n",
    "#include \"..\\..\\src\\cpp\\SQ_Wheat_Phenology\\PhenologyAuxiliary.cpp\"\n",
    "#include \"..\\..\\src\\cpp\\SQ_Wheat_Phenology\\PhenologyExogenous.cpp\"\n",
    "#include \"..\\..\\src\\cpp\\SQ_Wheat_Phenology\\Phylsowingdatecorrection.cpp\"\n"
   ]
  },
  {
   "cell_type": "code",
   "execution_count": null,
   "id": "11bb0745",
   "metadata": {},
   "outputs": [],
   "source": [
    "class Test\n",
    "{\n",
    "    private:\n",
    "        PhenologyState s;\n",
    "        PhenologyState s1;\n",
    "        PhenologyRate r;\n",
    "        PhenologyAuxiliary a;\n",
    "        PhenologyExogenous ex;\n",
    "        Phylsowingdatecorrection mod;\n",
    "    public:\n",
    "        //check wheat model1\n",
    "\n",
    "        // test_wheat1\n",
    "        void test_wheat1()\n",
    "        {\n",
    "            this->mod.setsowingDay(80);\n",
    "            this->mod.setlatitude(33.069);\n",
    "            this->mod.setsDsa_sh(151);\n",
    "            this->mod.setrp(0.003);\n",
    "            this->mod.setsDws(90);\n",
    "            this->mod.setsDsa_nh(200);\n",
    "            this->mod.setp(120);\n",
    "            this->mod.Calculate_Model(s,s1, r, a, ex);\n",
    "            //fixPhyll: 91.2;\n",
    "            cout << \"fixPhyll estimated :\\n\";\n",
    "            cout << \"\\t\" << this->a.getfixPhyll() << \"\\n\";\n",
    "        };\n",
    "}\n"
   ]
  },
  {
   "cell_type": "code",
   "execution_count": null,
   "id": "e3ba7142",
   "metadata": {},
   "outputs": [],
   "source": [
    "Test t;\n",
    "t.test_wheat1();\n"
   ]
  }
 ],
 "metadata": {},
 "nbformat": 4,
 "nbformat_minor": 5
}
