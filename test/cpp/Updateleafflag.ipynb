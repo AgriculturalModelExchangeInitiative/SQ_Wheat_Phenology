{
 "cells": [
  {
   "cell_type": "markdown",
   "id": "04aadd11",
   "metadata": {},
   "source": [
    "# Automatic generation of Notebook using PyCropML\n",
    "    This notebook implements a crop model."
   ]
  },
  {
   "cell_type": "markdown",
   "id": "57d05160",
   "metadata": {},
   "source": [
    "### Model Updateleafflag"
   ]
  },
  {
   "cell_type": "code",
   "execution_count": null,
   "id": "07379954",
   "metadata": {},
   "outputs": [],
   "source": [
    "#include \"..\\..\\src\\cpp\\SQ_Wheat_Phenology\\PhenologyState.cpp\"\n",
    "#include \"..\\..\\src\\cpp\\SQ_Wheat_Phenology\\PhenologyRate.cpp\"\n",
    "#include \"..\\..\\src\\cpp\\SQ_Wheat_Phenology\\PhenologyAuxiliary.cpp\"\n",
    "#include \"..\\..\\src\\cpp\\SQ_Wheat_Phenology\\PhenologyExogenous.cpp\"\n",
    "#include \"..\\..\\src\\cpp\\SQ_Wheat_Phenology\\Updateleafflag.cpp\"\n"
   ]
  },
  {
   "cell_type": "code",
   "execution_count": null,
   "id": "1f885a80",
   "metadata": {},
   "outputs": [],
   "source": [
    "class Test\n",
    "{\n",
    "    private:\n",
    "        PhenologyState s;\n",
    "        PhenologyState s1;\n",
    "        PhenologyRate r;\n",
    "        PhenologyAuxiliary a;\n",
    "        PhenologyExogenous ex;\n",
    "        Updateleafflag mod;\n",
    "    public:\n",
    "        //check wheat model1\n",
    "\n",
    "        // test_wheat1\n",
    "        void test_wheat1()\n",
    "        {\n",
    "            this->s1.sethasFlagLeafLiguleAppeared(0);\n",
    "            this->s.setphase(3);\n",
    "            this->s.setcalendarMoments({\"Sowing\",\"Emergence\",\"EndVernalisation\",\"MainShootPlus1Tiller\",\"FloralInitiation\",\"MainShootPlus2Tiller\",\"TerminalSpikelet\",\"PseudoStemErection\",\"MainShootPlus3Tiller\",\"1stNodeDetectable\",\"2ndNodeDetectable\",\"FlagLeafJustVisible\"});\n",
    "            this->s.setcalendarDates({\"2007/3/21\",\"2007/3/27\",\"2007/3/30\",\"2007/4/5\",\"2007/4/9\",\"2007/4/10\",\"2007/4/11\",\"2007/4/12\",\"2007/4/14\",\"2007/4/15\",\"2007/4/19\",\"2007/4/24\"});\n",
    "            this->s.setcalendarCumuls({0.0,112.330110409888,157.969706915664,280.570678654207,354.582294511779,378.453152853726,402.042720581446,424.98704708663,467.23305195298,487.544313430698,560.665248444002,646.389617338974});\n",
    "            this->a.setcumulTT(741.510096671757);\n",
    "            this->s.setleafNumber(8.919453833361189);\n",
    "            this->a.setcurrentdate(\"2007/4/29\");\n",
    "            this->s.setfinalLeafNumber(8.797582013199484);\n",
    "            this->mod.Calculate_Model(s,s1, r, a, ex);\n",
    "            //hasFlagLeafLiguleAppeared: 1;\n",
    "            cout << \"hasFlagLeafLiguleAppeared estimated :\\n\";\n",
    "            cout << \"\\t\" << this->s.gethasFlagLeafLiguleAppeared() << \"\\n\";\n",
    "            //calendarMoments: [\"Sowing\", \"Emergence\", \"EndVernalisation\", \"MainShootPlus1Tiller\", \"FloralInitiation\", \"MainShootPlus2Tiller\", \"TerminalSpikelet\", \"PseudoStemErection\", \"MainShootPlus3Tiller\", \"1stNodeDetectable\", \"2ndNodeDetectable\", \"FlagLeafJustVisible\", \"FlagLeafLiguleJustVisible\"];\n",
    "            cout << \"calendarMoments estimated :\\n\";\n",
    "            for (int i=0; i<this->s.getcalendarMoments().size(); i++) cout << \"\\t\" << this->s.getcalendarMoments()[i] << \"\\n\";\n",
    "            //calendarDates: [\"2007/3/21\", \"2007/3/27\", \"2007/3/30\", \"2007/4/5\", \"2007/4/9\", \"2007/4/10\", \"2007/4/11\", \"2007/4/12\", \"2007/4/14\", \"2007/4/15\", \"2007/4/19\", \"2007/4/24\",\"2007/4/29\"];\n",
    "            cout << \"calendarDates estimated :\\n\";\n",
    "            for (int i=0; i<this->s.getcalendarDates().size(); i++) cout << \"\\t\" << this->s.getcalendarDates()[i] << \"\\n\";\n",
    "            //calendarCumuls: [0.0, 112.33, 157.97, 280.57, 354.58, 378.45, 402.04, 424.99, 467.23, 487.54, 560.67, 646.39, 741.51];\n",
    "            cout << \"calendarCumuls estimated :\\n\";\n",
    "            for (int i=0; i<this->s.getcalendarCumuls().size(); i++) cout << \"\\t\" << this->s.getcalendarCumuls()[i] << \"\\n\";\n",
    "        };\n",
    "}\n"
   ]
  },
  {
   "cell_type": "code",
   "execution_count": null,
   "id": "f16c31ac",
   "metadata": {},
   "outputs": [],
   "source": [
    "Test t;\n",
    "t.test_wheat1();\n"
   ]
  }
 ],
 "metadata": {},
 "nbformat": 4,
 "nbformat_minor": 5
}
