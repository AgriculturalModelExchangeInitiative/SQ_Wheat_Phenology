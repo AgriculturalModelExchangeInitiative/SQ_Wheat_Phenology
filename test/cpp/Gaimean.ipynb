{
 "cells": [
  {
   "cell_type": "markdown",
   "id": "c91bc8c8",
   "metadata": {},
   "source": [
    "# Automatic generation of Notebook using PyCropML\n",
    "    This notebook implements a crop model."
   ]
  },
  {
   "cell_type": "markdown",
   "id": "1a6a07e6",
   "metadata": {},
   "source": [
    "### Model Gaimean"
   ]
  },
  {
   "cell_type": "code",
   "execution_count": null,
   "id": "b402e44d",
   "metadata": {},
   "outputs": [],
   "source": [
    "#include \"..\\..\\src\\cpp\\SQ_Wheat_Phenology\\PhenologyState.cpp\"\n",
    "#include \"..\\..\\src\\cpp\\SQ_Wheat_Phenology\\PhenologyRate.cpp\"\n",
    "#include \"..\\..\\src\\cpp\\SQ_Wheat_Phenology\\PhenologyAuxiliary.cpp\"\n",
    "#include \"..\\..\\src\\cpp\\SQ_Wheat_Phenology\\PhenologyExogenous.cpp\"\n",
    "#include \"..\\..\\src\\cpp\\SQ_Wheat_Phenology\\Gaimean.cpp\"\n"
   ]
  },
  {
   "cell_type": "code",
   "execution_count": null,
   "id": "45f47e10",
   "metadata": {},
   "outputs": [],
   "source": [
    "class Test\n",
    "{\n",
    "    private:\n",
    "        PhenologyState s;\n",
    "        PhenologyState s1;\n",
    "        PhenologyRate r;\n",
    "        PhenologyAuxiliary a;\n",
    "        PhenologyExogenous ex;\n",
    "        Gaimean mod;\n",
    "    public:\n",
    "        //check wheat model\n",
    "\n",
    "        // test_wheat1\n",
    "        void test_wheat1()\n",
    "        {\n",
    "            this->mod.settTWindowForPTQ(70.0);\n",
    "            this->a.setgAI(91.2);\n",
    "            this->a.setdeltaTT(0.279);\n",
    "            this->s1.setpastMaxAI(0.279);\n",
    "            this->s1.setlistTTShootWindowForPTQ1({0.0});\n",
    "            this->s1.setlistGAITTWindowForPTQ({0.0});\n",
    "            this->mod.Calculate_Model(s,s1, r, a, ex);\n",
    "            //gAImean: 45.6;\n",
    "            cout << \"gAImean estimated :\\n\";\n",
    "            cout << \"\\t\" << this->s.getgAImean() << \"\\n\";\n",
    "            //pastMaxAI: 45.6;\n",
    "            cout << \"pastMaxAI estimated :\\n\";\n",
    "            cout << \"\\t\" << this->s.getpastMaxAI() << \"\\n\";\n",
    "            //listTTShootWindowForPTQ1: [0.0, 0.28];\n",
    "            cout << \"listTTShootWindowForPTQ1 estimated :\\n\";\n",
    "            for (int i=0; i<this->s.getlistTTShootWindowForPTQ1().size(); i++) cout << \"\\t\" << this->s.getlistTTShootWindowForPTQ1()[i] << \"\\n\";\n",
    "            //listGAITTWindowForPTQ: [0.0, 91.2];\n",
    "            cout << \"listGAITTWindowForPTQ estimated :\\n\";\n",
    "            for (int i=0; i<this->s.getlistGAITTWindowForPTQ().size(); i++) cout << \"\\t\" << this->s.getlistGAITTWindowForPTQ()[i] << \"\\n\";\n",
    "        };\n",
    "}\n"
   ]
  },
  {
   "cell_type": "code",
   "execution_count": null,
   "id": "758a47de",
   "metadata": {},
   "outputs": [],
   "source": [
    "Test t;\n",
    "t.test_wheat1();\n"
   ]
  }
 ],
 "metadata": {},
 "nbformat": 4,
 "nbformat_minor": 5
}
