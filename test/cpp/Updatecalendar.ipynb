{
 "cells": [
  {
   "cell_type": "markdown",
   "id": "ed67b99e",
   "metadata": {},
   "source": [
    "# Automatic generation of Notebook using PyCropML\n",
    "    This notebook implements a crop model."
   ]
  },
  {
   "cell_type": "markdown",
   "id": "2eb83071",
   "metadata": {},
   "source": [
    "### Model Updatecalendar"
   ]
  },
  {
   "cell_type": "code",
   "execution_count": null,
   "id": "55307b65",
   "metadata": {},
   "outputs": [],
   "source": [
    "#include \"..\\..\\src\\cpp\\SQ_Wheat_Phenology\\PhenologyState.cpp\"\n",
    "#include \"..\\..\\src\\cpp\\SQ_Wheat_Phenology\\PhenologyRate.cpp\"\n",
    "#include \"..\\..\\src\\cpp\\SQ_Wheat_Phenology\\PhenologyAuxiliary.cpp\"\n",
    "#include \"..\\..\\src\\cpp\\SQ_Wheat_Phenology\\PhenologyExogenous.cpp\"\n",
    "#include \"..\\..\\src\\cpp\\SQ_Wheat_Phenology\\Updatecalendar.cpp\"\n"
   ]
  },
  {
   "cell_type": "code",
   "execution_count": null,
   "id": "c87fcc50",
   "metadata": {},
   "outputs": [],
   "source": [
    "class Test\n",
    "{\n",
    "    private:\n",
    "        PhenologyState s;\n",
    "        PhenologyState s1;\n",
    "        PhenologyRate r;\n",
    "        PhenologyAuxiliary a;\n",
    "        PhenologyExogenous ex;\n",
    "        Updatecalendar mod;\n",
    "    public:\n",
    "        //check wheat model\n",
    "\n",
    "        // test_wheat1\n",
    "        void test_wheat1()\n",
    "        {\n",
    "            this->a.setcumulTT( 112.330110409888);\n",
    "            this->s.setcalendarMoments({\"Sowing\"});\n",
    "            this->s.setcalendarDates({\"2007/3/21\"});\n",
    "            this->s.setcalendarCumuls({0.0});\n",
    "            this->s.setphase(1);\n",
    "            this->a.setcurrentdate(\"2007/3/27\");\n",
    "            this->mod.Calculate_Model(s,s1, r, a, ex);\n",
    "            //calendarMoments: [\"Sowing\", \"Emergence\"];\n",
    "            cout << \"calendarMoments estimated :\\n\";\n",
    "            for (int i=0; i<this->s.getcalendarMoments().size(); i++) cout << \"\\t\" << this->s.getcalendarMoments()[i] << \"\\n\";\n",
    "            //calendarDates: [\"2007/3/21\", \"2007/3/27\"];\n",
    "            cout << \"calendarDates estimated :\\n\";\n",
    "            for (int i=0; i<this->s.getcalendarDates().size(); i++) cout << \"\\t\" << this->s.getcalendarDates()[i] << \"\\n\";\n",
    "            //calendarCumuls: [ 0.0 ,112.33];\n",
    "            cout << \"calendarCumuls estimated :\\n\";\n",
    "            for (int i=0; i<this->s.getcalendarCumuls().size(); i++) cout << \"\\t\" << this->s.getcalendarCumuls()[i] << \"\\n\";\n",
    "        };\n",
    "}\n"
   ]
  },
  {
   "cell_type": "code",
   "execution_count": null,
   "id": "c1c0f62f",
   "metadata": {},
   "outputs": [],
   "source": [
    "Test t;\n",
    "t.test_wheat1();\n"
   ]
  }
 ],
 "metadata": {},
 "nbformat": 4,
 "nbformat_minor": 5
}
