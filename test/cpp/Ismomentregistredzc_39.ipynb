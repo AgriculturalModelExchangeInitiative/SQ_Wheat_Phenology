{
 "cells": [
  {
   "cell_type": "markdown",
   "id": "b0ba7221",
   "metadata": {},
   "source": [
    "# Automatic generation of Notebook using PyCropML\n",
    "    This notebook implements a crop model."
   ]
  },
  {
   "cell_type": "markdown",
   "id": "782a00d9",
   "metadata": {},
   "source": [
    "### Model Ismomentregistredzc_39"
   ]
  },
  {
   "cell_type": "code",
   "execution_count": null,
   "id": "8d464d9e",
   "metadata": {},
   "outputs": [],
   "source": [
    "#include \"..\\..\\src\\cpp\\SQ_Wheat_Phenology\\PhenologyState.cpp\"\n",
    "#include \"..\\..\\src\\cpp\\SQ_Wheat_Phenology\\PhenologyRate.cpp\"\n",
    "#include \"..\\..\\src\\cpp\\SQ_Wheat_Phenology\\PhenologyAuxiliary.cpp\"\n",
    "#include \"..\\..\\src\\cpp\\SQ_Wheat_Phenology\\PhenologyExogenous.cpp\"\n",
    "#include \"..\\..\\src\\cpp\\SQ_Wheat_Phenology\\Ismomentregistredzc_39.cpp\"\n"
   ]
  },
  {
   "cell_type": "code",
   "execution_count": null,
   "id": "c865e0ae",
   "metadata": {},
   "outputs": [],
   "source": [
    "class Test\n",
    "{\n",
    "    private:\n",
    "        PhenologyState s;\n",
    "        PhenologyState s1;\n",
    "        PhenologyRate r;\n",
    "        PhenologyAuxiliary a;\n",
    "        PhenologyExogenous ex;\n",
    "        Ismomentregistredzc_39 mod;\n",
    "    public:\n",
    "        //check wheat model\n",
    "\n",
    "        // test_wheat1\n",
    "        void test_wheat1()\n",
    "        {\n",
    "            this->s1.setcalendarMoments({\"Sowing\",\"Emergence\",\"FloralInitiation\",\"FlagLeafLiguleJustVisible\",\"Heading\",\"Anthesis\"});\n",
    "            this->mod.Calculate_Model(s,s1, r, a, ex);\n",
    "            //isMomentRegistredZC_39: 1;\n",
    "            cout << \"isMomentRegistredZC_39 estimated :\\n\";\n",
    "            cout << \"\\t\" << this->s.getisMomentRegistredZC_39() << \"\\n\";\n",
    "        };\n",
    "}\n"
   ]
  },
  {
   "cell_type": "code",
   "execution_count": null,
   "id": "9ffd387b",
   "metadata": {},
   "outputs": [],
   "source": [
    "Test t;\n",
    "t.test_wheat1();\n"
   ]
  }
 ],
 "metadata": {},
 "nbformat": 4,
 "nbformat_minor": 5
}
