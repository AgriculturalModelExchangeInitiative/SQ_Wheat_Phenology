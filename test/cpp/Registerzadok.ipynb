{
 "cells": [
  {
   "cell_type": "markdown",
   "id": "31e8fdab",
   "metadata": {},
   "source": [
    "# Automatic generation of Notebook using PyCropML\n",
    "    This notebook implements a crop model."
   ]
  },
  {
   "cell_type": "markdown",
   "id": "fb397d00",
   "metadata": {},
   "source": [
    "### Model Registerzadok"
   ]
  },
  {
   "cell_type": "code",
   "execution_count": null,
   "id": "c3af8c69",
   "metadata": {},
   "outputs": [],
   "source": [
    "#include \"..\\..\\src\\cpp\\SQ_Wheat_Phenology\\PhenologyState.cpp\"\n",
    "#include \"..\\..\\src\\cpp\\SQ_Wheat_Phenology\\PhenologyRate.cpp\"\n",
    "#include \"..\\..\\src\\cpp\\SQ_Wheat_Phenology\\PhenologyAuxiliary.cpp\"\n",
    "#include \"..\\..\\src\\cpp\\SQ_Wheat_Phenology\\PhenologyExogenous.cpp\"\n",
    "#include \"..\\..\\src\\cpp\\SQ_Wheat_Phenology\\Registerzadok.cpp\"\n"
   ]
  },
  {
   "cell_type": "code",
   "execution_count": null,
   "id": "e574693d",
   "metadata": {},
   "outputs": [],
   "source": [
    "class Test\n",
    "{\n",
    "    private:\n",
    "        PhenologyState s;\n",
    "        PhenologyState s1;\n",
    "        PhenologyRate r;\n",
    "        PhenologyAuxiliary a;\n",
    "        PhenologyExogenous ex;\n",
    "        Registerzadok mod;\n",
    "    public:\n",
    "        //check wheat model1\n",
    "\n",
    "        // test_wheat1\n",
    "        void test_wheat1()\n",
    "        {\n",
    "            this->mod.setslopeTSFLN(0.9);\n",
    "            this->mod.setintTSFLN(2.6);\n",
    "            this->mod.setder(300.0);\n",
    "            this->s.setcalendarMoments({\"Sowing\",\"Emergence\",\"EndVernalisation\",\"MainShootPlus1Tiller\"});\n",
    "            this->s.setcalendarDates({\"2007/3/21\",\"2007/3/27\",\"2007/3/30\",\"2007/4/5\"});\n",
    "            this->s.setcalendarCumuls({0.0,112.330110409888,157.969706915664,280.570678654207});\n",
    "            this->s.setphase(2);\n",
    "            this->a.setcumulTT(354.582294511779);\n",
    "            this->s.setleafNumber(4.8854219661087575);\n",
    "            this->a.setcumulTTFromZC_65(0);\n",
    "            this->a.setcurrentdate(\"2007/4/9\");\n",
    "            this->s.setfinalLeafNumber(8.797582013199484);\n",
    "            this->s.setcurrentZadokStage(\"MainShootPlus1Tiller\");\n",
    "            this->s1.sethasZadokStageChanged(0);\n",
    "            this->mod.setsowingDate(\"2007/3/21\");\n",
    "            this->mod.Calculate_Model(s,s1, r, a, ex);\n",
    "            //calendarMoments: [\"Sowing\",\"Emergence\",\"EndVernalisation\",\"MainShootPlus1Tiller\"];\n",
    "            cout << \"calendarMoments estimated :\\n\";\n",
    "            for (int i=0; i<this->s.getcalendarMoments().size(); i++) cout << \"\\t\" << this->s.getcalendarMoments()[i] << \"\\n\";\n",
    "            //calendarDates: [\"2007/3/21\", \"2007/3/27\",\"2007/3/30\",\"2007/4/5\"];\n",
    "            cout << \"calendarDates estimated :\\n\";\n",
    "            for (int i=0; i<this->s.getcalendarDates().size(); i++) cout << \"\\t\" << this->s.getcalendarDates()[i] << \"\\n\";\n",
    "            //calendarCumuls: [ 0.0, 112.33,157.97, 280.57];\n",
    "            cout << \"calendarCumuls estimated :\\n\";\n",
    "            for (int i=0; i<this->s.getcalendarCumuls().size(); i++) cout << \"\\t\" << this->s.getcalendarCumuls()[i] << \"\\n\";\n",
    "            //currentZadokStage: \"MainShootPlus1Tiller\";\n",
    "            cout << \"currentZadokStage estimated :\\n\";\n",
    "            cout << \"\\t\" << this->s.getcurrentZadokStage() << \"\\n\";\n",
    "            //hasZadokStageChanged: 0;\n",
    "            cout << \"hasZadokStageChanged estimated :\\n\";\n",
    "            cout << \"\\t\" << this->s.gethasZadokStageChanged() << \"\\n\";\n",
    "        };\n",
    "}\n"
   ]
  },
  {
   "cell_type": "code",
   "execution_count": null,
   "id": "55b2b0ae",
   "metadata": {},
   "outputs": [],
   "source": [
    "Test t;\n",
    "t.test_wheat1();\n"
   ]
  }
 ],
 "metadata": {},
 "nbformat": 4,
 "nbformat_minor": 5
}
