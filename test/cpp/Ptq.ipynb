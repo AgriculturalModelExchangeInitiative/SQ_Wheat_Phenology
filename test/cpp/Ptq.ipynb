{
 "cells": [
  {
   "cell_type": "markdown",
   "id": "e784827d",
   "metadata": {},
   "source": [
    "# Automatic generation of Notebook using PyCropML\n",
    "    This notebook implements a crop model."
   ]
  },
  {
   "cell_type": "markdown",
   "id": "dbd41ce5",
   "metadata": {},
   "source": [
    "### Model Ptq"
   ]
  },
  {
   "cell_type": "code",
   "execution_count": null,
   "id": "7bf00f45",
   "metadata": {},
   "outputs": [],
   "source": [
    "#include \"..\\..\\src\\cpp\\SQ_Wheat_Phenology\\PhenologyState.cpp\"\n",
    "#include \"..\\..\\src\\cpp\\SQ_Wheat_Phenology\\PhenologyRate.cpp\"\n",
    "#include \"..\\..\\src\\cpp\\SQ_Wheat_Phenology\\PhenologyAuxiliary.cpp\"\n",
    "#include \"..\\..\\src\\cpp\\SQ_Wheat_Phenology\\PhenologyExogenous.cpp\"\n",
    "#include \"..\\..\\src\\cpp\\SQ_Wheat_Phenology\\Ptq.cpp\"\n"
   ]
  },
  {
   "cell_type": "code",
   "execution_count": null,
   "id": "19fb5cfa",
   "metadata": {},
   "outputs": [],
   "source": [
    "class Test\n",
    "{\n",
    "    private:\n",
    "        PhenologyState s;\n",
    "        PhenologyState s1;\n",
    "        PhenologyRate r;\n",
    "        PhenologyAuxiliary a;\n",
    "        PhenologyExogenous ex;\n",
    "        Ptq mod;\n",
    "    public:\n",
    "        //check wheat model\n",
    "\n",
    "        // test_wheat1\n",
    "        void test_wheat1()\n",
    "        {\n",
    "            this->mod.settTWindowForPTQ(70.0);\n",
    "            this->mod.setkl(0.45);\n",
    "            this->s1.setlistTTShootWindowForPTQ({0.0});\n",
    "            this->s1.setlistPARTTWindowForPTQ({0.0});\n",
    "            this->s.setlistGAITTWindowForPTQ({0.0,5.2});\n",
    "            this->a.setpAR(0.0);\n",
    "            this->a.setdeltaTT(21.3);\n",
    "            this->mod.Calculate_Model(s,s1, r, a, ex);\n",
    "            //listPARTTWindowForPTQ: [0.00, 0.0];\n",
    "            cout << \"listPARTTWindowForPTQ estimated :\\n\";\n",
    "            for (int i=0; i<this->s.getlistPARTTWindowForPTQ().size(); i++) cout << \"\\t\" << this->s.getlistPARTTWindowForPTQ()[i] << \"\\n\";\n",
    "            //listTTShootWindowForPTQ: [0.0, 21.3];\n",
    "            cout << \"listTTShootWindowForPTQ estimated :\\n\";\n",
    "            for (int i=0; i<this->s.getlistTTShootWindowForPTQ().size(); i++) cout << \"\\t\" << this->s.getlistTTShootWindowForPTQ()[i] << \"\\n\";\n",
    "            //ptq: 0.0;\n",
    "            cout << \"ptq estimated :\\n\";\n",
    "            cout << \"\\t\" << this->s.getptq() << \"\\n\";\n",
    "        };\n",
    "}\n"
   ]
  },
  {
   "cell_type": "code",
   "execution_count": null,
   "id": "d739e5de",
   "metadata": {},
   "outputs": [],
   "source": [
    "Test t;\n",
    "t.test_wheat1();\n"
   ]
  }
 ],
 "metadata": {},
 "nbformat": 4,
 "nbformat_minor": 5
}
