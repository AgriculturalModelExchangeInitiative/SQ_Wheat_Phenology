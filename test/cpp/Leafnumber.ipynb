{
 "cells": [
  {
   "cell_type": "markdown",
   "id": "46ec7e2e",
   "metadata": {},
   "source": [
    "# Automatic generation of Notebook using PyCropML\n",
    "    This notebook implements a crop model."
   ]
  },
  {
   "cell_type": "markdown",
   "id": "630f4fcc",
   "metadata": {},
   "source": [
    "### Model Leafnumber"
   ]
  },
  {
   "cell_type": "code",
   "execution_count": null,
   "id": "fe168282",
   "metadata": {},
   "outputs": [],
   "source": [
    "#include \"..\\..\\src\\cpp\\SQ_Wheat_Phenology\\PhenologyState.cpp\"\n",
    "#include \"..\\..\\src\\cpp\\SQ_Wheat_Phenology\\PhenologyRate.cpp\"\n",
    "#include \"..\\..\\src\\cpp\\SQ_Wheat_Phenology\\PhenologyAuxiliary.cpp\"\n",
    "#include \"..\\..\\src\\cpp\\SQ_Wheat_Phenology\\PhenologyExogenous.cpp\"\n",
    "#include \"..\\..\\src\\cpp\\SQ_Wheat_Phenology\\Leafnumber.cpp\"\n"
   ]
  },
  {
   "cell_type": "code",
   "execution_count": null,
   "id": "d2c89417",
   "metadata": {},
   "outputs": [],
   "source": [
    "class Test\n",
    "{\n",
    "    private:\n",
    "        PhenologyState s;\n",
    "        PhenologyState s1;\n",
    "        PhenologyRate r;\n",
    "        PhenologyAuxiliary a;\n",
    "        PhenologyExogenous ex;\n",
    "        Leafnumber mod;\n",
    "    public:\n",
    "        //check wheat model1\n",
    "\n",
    "        // test_wheat1\n",
    "        void test_wheat1()\n",
    "        {\n",
    "            this->s1.setleafNumber(5.147163833893262);\n",
    "            this->s.setphase(3);\n",
    "            this->s1.setphyllochron(91.2);\n",
    "            this->a.setdeltaTT(23.5895677277199);\n",
    "            this->s.sethasFlagLeafLiguleAppeared(0);\n",
    "            this->mod.Calculate_Model(s,s1, r, a, ex);\n",
    "            //leafNumber: 5.41;\n",
    "            cout << \"leafNumber estimated :\\n\";\n",
    "            cout << \"\\t\" << this->s.getleafNumber() << \"\\n\";\n",
    "        };\n",
    "}\n"
   ]
  },
  {
   "cell_type": "code",
   "execution_count": null,
   "id": "c9e088f2",
   "metadata": {},
   "outputs": [],
   "source": [
    "Test t;\n",
    "t.test_wheat1();\n"
   ]
  }
 ],
 "metadata": {},
 "nbformat": 4,
 "nbformat_minor": 5
}
