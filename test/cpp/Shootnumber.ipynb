{
 "cells": [
  {
   "cell_type": "markdown",
   "id": "56847021",
   "metadata": {},
   "source": [
    "# Automatic generation of Notebook using PyCropML\n",
    "    This notebook implements a crop model."
   ]
  },
  {
   "cell_type": "markdown",
   "id": "9df42113",
   "metadata": {},
   "source": [
    "### Model Shootnumber"
   ]
  },
  {
   "cell_type": "code",
   "execution_count": null,
   "id": "ec6122f3",
   "metadata": {},
   "outputs": [],
   "source": [
    "#include \"..\\..\\src\\cpp\\SQ_Wheat_Phenology\\PhenologyState.cpp\"\n",
    "#include \"..\\..\\src\\cpp\\SQ_Wheat_Phenology\\PhenologyRate.cpp\"\n",
    "#include \"..\\..\\src\\cpp\\SQ_Wheat_Phenology\\PhenologyAuxiliary.cpp\"\n",
    "#include \"..\\..\\src\\cpp\\SQ_Wheat_Phenology\\PhenologyExogenous.cpp\"\n",
    "#include \"..\\..\\src\\cpp\\SQ_Wheat_Phenology\\Shootnumber.cpp\"\n"
   ]
  },
  {
   "cell_type": "code",
   "execution_count": null,
   "id": "fe9ba46c",
   "metadata": {},
   "outputs": [],
   "source": [
    "class Test\n",
    "{\n",
    "    private:\n",
    "        PhenologyState s;\n",
    "        PhenologyState s1;\n",
    "        PhenologyRate r;\n",
    "        PhenologyAuxiliary a;\n",
    "        PhenologyExogenous ex;\n",
    "        Shootnumber mod;\n",
    "    public:\n",
    "        //check wheat model1\n",
    "\n",
    "        // test_wheat1\n",
    "        void test_wheat1()\n",
    "        {\n",
    "            this->mod.settargetFertileShoot(600.0);\n",
    "            this->mod.setsowingDensity(288.0);\n",
    "            this->s1.setcanopyShootNumber(288.0);\n",
    "            this->s.setleafNumber(3.34348137255);\n",
    "            this->s1.setleafTillerNumberArray({1,1,1});\n",
    "            this->s1.settilleringProfile({288.0});\n",
    "            this->s1.setnumberTillerCohort(1);\n",
    "            this->mod.Calculate_Model(s,s1, r, a, ex);\n",
    "            //averageShootNumberPerPlant: 2;\n",
    "            cout << \"averageShootNumberPerPlant estimated :\\n\";\n",
    "            cout << \"\\t\" << this->s.getaverageShootNumberPerPlant() << \"\\n\";\n",
    "            //canopyShootNumber: 576;\n",
    "            cout << \"canopyShootNumber estimated :\\n\";\n",
    "            cout << \"\\t\" << this->s.getcanopyShootNumber() << \"\\n\";\n",
    "            //leafTillerNumberArray: [1, 1, 1, 2];\n",
    "            cout << \"leafTillerNumberArray estimated :\\n\";\n",
    "            for (int i=0; i<this->s.getleafTillerNumberArray().size(); i++) cout << \"\\t\" << this->s.getleafTillerNumberArray()[i] << \"\\n\";\n",
    "            //tilleringProfile: [288.0, 288.0];\n",
    "            cout << \"tilleringProfile estimated :\\n\";\n",
    "            for (int i=0; i<this->s.gettilleringProfile().size(); i++) cout << \"\\t\" << this->s.gettilleringProfile()[i] << \"\\n\";\n",
    "            //numberTillerCohort: 2;\n",
    "            cout << \"numberTillerCohort estimated :\\n\";\n",
    "            cout << \"\\t\" << this->s.getnumberTillerCohort() << \"\\n\";\n",
    "        };\n",
    "}\n"
   ]
  },
  {
   "cell_type": "code",
   "execution_count": null,
   "id": "01f43ab1",
   "metadata": {},
   "outputs": [],
   "source": [
    "Test t;\n",
    "t.test_wheat1();\n"
   ]
  }
 ],
 "metadata": {},
 "nbformat": 4,
 "nbformat_minor": 5
}
