{
 "cells": [
  {
   "cell_type": "markdown",
   "id": "1c15e5aa",
   "metadata": {},
   "source": [
    "# Automatic generation of Notebook using PyCropML\n",
    "    This notebook implements a crop model."
   ]
  },
  {
   "cell_type": "markdown",
   "id": "1ab70c2f",
   "metadata": {},
   "source": [
    "### Model Cumulttfrom"
   ]
  },
  {
   "cell_type": "code",
   "execution_count": null,
   "id": "35fa4943",
   "metadata": {},
   "outputs": [],
   "source": [
    "#include \"..\\..\\src\\cpp\\SQ_Wheat_Phenology\\PhenologyState.cpp\"\n",
    "#include \"..\\..\\src\\cpp\\SQ_Wheat_Phenology\\PhenologyRate.cpp\"\n",
    "#include \"..\\..\\src\\cpp\\SQ_Wheat_Phenology\\PhenologyAuxiliary.cpp\"\n",
    "#include \"..\\..\\src\\cpp\\SQ_Wheat_Phenology\\PhenologyExogenous.cpp\"\n",
    "#include \"..\\..\\src\\cpp\\SQ_Wheat_Phenology\\Cumulttfrom.cpp\"\n"
   ]
  },
  {
   "cell_type": "code",
   "execution_count": null,
   "id": "b42ef0ec",
   "metadata": {},
   "outputs": [],
   "source": [
    "class Test\n",
    "{\n",
    "    private:\n",
    "        PhenologyState s;\n",
    "        PhenologyState s1;\n",
    "        PhenologyRate r;\n",
    "        PhenologyAuxiliary a;\n",
    "        PhenologyExogenous ex;\n",
    "        Cumulttfrom mod;\n",
    "    public:\n",
    "        //check wheat model\n",
    "\n",
    "        // test_wheat1\n",
    "        void test_wheat1()\n",
    "        {\n",
    "            this->s1.setcalendarMoments({\"Sowing\",\"Emergence\",\"FloralInitiation\",\"FlagLeafLiguleJustVisible\",\"Heading\",\"Anthesis\"});\n",
    "            this->s1.setcalendarCumuls({0.0,112.330110409888,354.582294511779,741.510096671757,853.999637026622,954.59002776961});\n",
    "            this->a.setcumulTT(972.970888983105);\n",
    "            this->mod.Calculate_Model(s,s1, r, a, ex);\n",
    "            //cumulTTFromZC_65: 18.38;\n",
    "            cout << \"cumulTTFromZC_65 estimated :\\n\";\n",
    "            cout << \"\\t\" << this->a.getcumulTTFromZC_65() << \"\\n\";\n",
    "            //cumulTTFromZC_39: 231.46;\n",
    "            cout << \"cumulTTFromZC_39 estimated :\\n\";\n",
    "            cout << \"\\t\" << this->a.getcumulTTFromZC_39() << \"\\n\";\n",
    "            //cumulTTFromZC_91: 0;\n",
    "            cout << \"cumulTTFromZC_91 estimated :\\n\";\n",
    "            cout << \"\\t\" << this->a.getcumulTTFromZC_91() << \"\\n\";\n",
    "        };\n",
    "}\n"
   ]
  },
  {
   "cell_type": "code",
   "execution_count": null,
   "id": "e6cc0187",
   "metadata": {},
   "outputs": [],
   "source": [
    "Test t;\n",
    "t.test_wheat1();\n"
   ]
  }
 ],
 "metadata": {},
 "nbformat": 4,
 "nbformat_minor": 5
}
