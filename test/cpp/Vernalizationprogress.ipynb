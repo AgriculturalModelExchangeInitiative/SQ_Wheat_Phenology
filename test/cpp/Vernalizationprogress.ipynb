{
 "cells": [
  {
   "cell_type": "markdown",
   "id": "ea09c319",
   "metadata": {},
   "source": [
    "# Automatic generation of Notebook using PyCropML\n",
    "    This notebook implements a crop model."
   ]
  },
  {
   "cell_type": "markdown",
   "id": "711c2714",
   "metadata": {},
   "source": [
    "### Model Vernalizationprogress"
   ]
  },
  {
   "cell_type": "code",
   "execution_count": null,
   "id": "e780a1ec",
   "metadata": {},
   "outputs": [],
   "source": [
    "#include \"..\\..\\src\\cpp\\SQ_Wheat_Phenology\\PhenologyState.cpp\"\n",
    "#include \"..\\..\\src\\cpp\\SQ_Wheat_Phenology\\PhenologyRate.cpp\"\n",
    "#include \"..\\..\\src\\cpp\\SQ_Wheat_Phenology\\PhenologyAuxiliary.cpp\"\n",
    "#include \"..\\..\\src\\cpp\\SQ_Wheat_Phenology\\PhenologyExogenous.cpp\"\n",
    "#include \"..\\..\\src\\cpp\\SQ_Wheat_Phenology\\Vernalizationprogress.cpp\"\n"
   ]
  },
  {
   "cell_type": "code",
   "execution_count": null,
   "id": "fff39b0c",
   "metadata": {},
   "outputs": [],
   "source": [
    "class Test\n",
    "{\n",
    "    private:\n",
    "        PhenologyState s;\n",
    "        PhenologyState s1;\n",
    "        PhenologyRate r;\n",
    "        PhenologyAuxiliary a;\n",
    "        PhenologyExogenous ex;\n",
    "        Vernalizationprogress mod;\n",
    "    public:\n",
    "        //check wheat model1\n",
    "\n",
    "        // test_wheat1\n",
    "        void test_wheat1()\n",
    "        {\n",
    "            this->mod.setisVernalizable(1);\n",
    "            this->mod.setminTvern(0.0);\n",
    "            this->mod.setintTvern(11.0);\n",
    "            this->mod.setvAI(0.015);\n",
    "            this->mod.setvBEE(0.01);\n",
    "            this->mod.setminDL(8.0);\n",
    "            this->mod.setmaxDL(15.0);\n",
    "            this->mod.setmaxTvern(23.0);\n",
    "            this->mod.setpNini(4.0);\n",
    "            this->mod.setaMXLFNO(24.0);\n",
    "            this->a.setcumulTT( 112.330110409888);\n",
    "            this->a.setdayLength(12.3037621834005);\n",
    "            this->a.setdeltaTT(20.3429985011972);\n",
    "            this->s1.setleafNumber(0);\n",
    "            this->s1.setcalendarMoments({\"Sowing\"});\n",
    "            this->s1.setcalendarDates({\"2007/3/21\"});\n",
    "            this->s1.setcalendarCumuls({0.0});\n",
    "            this->s1.setvernaprog( 0.5517254187376879);\n",
    "            this->a.setcurrentdate(\"2007/3/27\");\n",
    "            this->s1.setminFinalNumber(5.5);\n",
    "            this->mod.Calculate_Model(s,s1, r, a, ex);\n",
    "            //vernaprog: 0.64;\n",
    "            cout << \"vernaprog estimated :\\n\";\n",
    "            cout << \"\\t\" << this->s.getvernaprog() << \"\\n\";\n",
    "            //minFinalNumber: 5.5;\n",
    "            cout << \"minFinalNumber estimated :\\n\";\n",
    "            cout << \"\\t\" << this->s.getminFinalNumber() << \"\\n\";\n",
    "            //calendarMoments: [\"Sowing\"];\n",
    "            cout << \"calendarMoments estimated :\\n\";\n",
    "            for (int i=0; i<this->s.getcalendarMoments().size(); i++) cout << \"\\t\" << this->s.getcalendarMoments()[i] << \"\\n\";\n",
    "            //calendarDates: [\"2007/3/21\"];\n",
    "            cout << \"calendarDates estimated :\\n\";\n",
    "            for (int i=0; i<this->s.getcalendarDates().size(); i++) cout << \"\\t\" << this->s.getcalendarDates()[i] << \"\\n\";\n",
    "            //calendarCumuls: [0.0];\n",
    "            cout << \"calendarCumuls estimated :\\n\";\n",
    "            for (int i=0; i<this->s.getcalendarCumuls().size(); i++) cout << \"\\t\" << this->s.getcalendarCumuls()[i] << \"\\n\";\n",
    "        };\n",
    "}\n"
   ]
  },
  {
   "cell_type": "code",
   "execution_count": null,
   "id": "35d4f372",
   "metadata": {},
   "outputs": [],
   "source": [
    "Test t;\n",
    "t.test_wheat1();\n"
   ]
  }
 ],
 "metadata": {},
 "nbformat": 4,
 "nbformat_minor": 5
}
